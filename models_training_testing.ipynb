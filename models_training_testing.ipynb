{
  "nbformat": 4,
  "nbformat_minor": 0,
  "metadata": {
    "colab": {
      "provenance": [],
      "authorship_tag": "ABX9TyOplcn1kwwBi7qAjV4GZkWv",
      "include_colab_link": true
    },
    "kernelspec": {
      "name": "python3",
      "display_name": "Python 3"
    },
    "language_info": {
      "name": "python"
    }
  },
  "cells": [
    {
      "cell_type": "markdown",
      "metadata": {
        "id": "view-in-github",
        "colab_type": "text"
      },
      "source": [
        "<a href=\"https://colab.research.google.com/github/Rohit-Annamaneni-1207/DN_project_route_trace/blob/main/models_training_testing.ipynb\" target=\"_parent\"><img src=\"https://colab.research.google.com/assets/colab-badge.svg\" alt=\"Open In Colab\"/></a>"
      ]
    },
    {
      "cell_type": "code",
      "execution_count": null,
      "metadata": {
        "id": "XJ-SnH6PkoNl"
      },
      "outputs": [],
      "source": [
        "import pandas as pd\n",
        "import numpy as np\n",
        "from sklearn.model_selection import train_test_split\n",
        "from geopy.geocoders import Nominatim"
      ]
    },
    {
      "cell_type": "markdown",
      "source": [
        "**PREPROCESSING FOR NAIVE BAYES, DECISION TREE AND RANDOM FOREST**"
      ],
      "metadata": {
        "id": "sEii9T048r8o"
      }
    },
    {
      "cell_type": "code",
      "source": [
        "def latitude_longitude(place):\n",
        "  geolocator = Nominatim()\n",
        "  location = geolocator.geocode(place)\n",
        "  lat=location.latitude\n",
        "  lon=location.longitude\n",
        "  return [lat, lon]\n",
        "\n",
        "def predict_inverse(model, encoders, src_city, dest, hop_no):\n",
        "  le_src_city = encoders[0]\n",
        "  le_dest = encoders[1]\n",
        "  le_hop_city = encoders[2]\n",
        "\n",
        "  X = np.array([src_city, dest, hop_no])\n",
        "  X[0] = le_src_city.transform([X[0]])[0]\n",
        "  X[1] = le_dest.transform([X[1]])[0]\n",
        "  # print(X)\n",
        "\n",
        "  y = model.predict([X])\n",
        "  # print(y)\n",
        "  y = le_hop_city.inverse_transform([y[0]])[0]\n",
        "  return [y] + latitude_longitude(y)\n",
        "\n",
        "\n",
        "\n"
      ],
      "metadata": {
        "id": "uphAUeoR9h1k"
      },
      "execution_count": null,
      "outputs": []
    },
    {
      "cell_type": "code",
      "source": [
        "url = \"https://raw.githubusercontent.com/Rohit-Annamaneni-1207/DN_project_route_trace/main/route_data.csv\"\n",
        "url = \"https://raw.githubusercontent.com/Rohit-Annamaneni-1207/DN_project_route_trace/main/route_data_updated.csv\"\n",
        "df = pd.read_csv(url, encoding = \"utf-8\")"
      ],
      "metadata": {
        "id": "R9ON2SeImPzn"
      },
      "execution_count": null,
      "outputs": []
    },
    {
      "cell_type": "code",
      "source": [
        "df"
      ],
      "metadata": {
        "colab": {
          "base_uri": "https://localhost:8080/",
          "height": 592
        },
        "id": "mOhhGw10mbqh",
        "outputId": "93012d9d-db61-4bfc-930d-400d6cd56025"
      },
      "execution_count": null,
      "outputs": [
        {
          "output_type": "execute_result",
          "data": {
            "text/plain": [
              "      Unnamed: 0  session_no          src   src_city      src_region  \\\n",
              "0              0           0  10.0.16.155  Nandigāma  Andhra Pradesh   \n",
              "1              1           0  10.0.16.155  Nandigāma  Andhra Pradesh   \n",
              "2              2           0  10.0.16.155  Nandigāma  Andhra Pradesh   \n",
              "3              3           0  10.0.16.155  Nandigāma  Andhra Pradesh   \n",
              "4              4           0  10.0.16.155  Nandigāma  Andhra Pradesh   \n",
              "...          ...         ...          ...        ...             ...   \n",
              "1652           1          74   10.0.3.194      Delhi           Delhi   \n",
              "1653           2          74   10.0.3.194      Delhi           Delhi   \n",
              "1654           3          74   10.0.3.194      Delhi           Delhi   \n",
              "1655           4          74   10.0.3.194      Delhi           Delhi   \n",
              "1656           5          74   10.0.3.194      Delhi           Delhi   \n",
              "\n",
              "     src_country    dest  Hop_No  avg_rtt       IP_Address       City  \\\n",
              "0             IN  google       1        4   203.129.246.53  Nandigāma   \n",
              "1             IN  google       2        4  203.129.218.109      Hubli   \n",
              "2             IN  google       3        6      61.1.117.54  Bengaluru   \n",
              "3             IN  google       4       24  117.216.207.115    Tanjore   \n",
              "4             IN  google       5       26   142.250.160.26    Chennai   \n",
              "...          ...     ...     ...      ...              ...        ...   \n",
              "1652          IN  amazon       2       18    116.119.72.96    Gurgaon   \n",
              "1653          IN  amazon       3       33   182.79.142.123  Hyderābād   \n",
              "1654          IN  amazon       4       48    23.56.136.206     Mumbai   \n",
              "1655          IN  amazon       5      100   104.70.118.197     Mumbai   \n",
              "1656          IN  amazon       6       27    23.213.57.100     Mumbai   \n",
              "\n",
              "         Region_Name Country  \n",
              "0     Andhra Pradesh      IN  \n",
              "1          Karnataka      IN  \n",
              "2          Karnataka      IN  \n",
              "3         Tamil Nadu      IN  \n",
              "4         Tamil Nadu      IN  \n",
              "...              ...     ...  \n",
              "1652         Haryana      IN  \n",
              "1653       Telangana      IN  \n",
              "1654     Maharashtra      IN  \n",
              "1655     Maharashtra      IN  \n",
              "1656     Maharashtra      IN  \n",
              "\n",
              "[1657 rows x 13 columns]"
            ],
            "text/html": [
              "\n",
              "  <div id=\"df-3a2dfaf5-988b-45f4-ac58-36d1f410a014\">\n",
              "    <div class=\"colab-df-container\">\n",
              "      <div>\n",
              "<style scoped>\n",
              "    .dataframe tbody tr th:only-of-type {\n",
              "        vertical-align: middle;\n",
              "    }\n",
              "\n",
              "    .dataframe tbody tr th {\n",
              "        vertical-align: top;\n",
              "    }\n",
              "\n",
              "    .dataframe thead th {\n",
              "        text-align: right;\n",
              "    }\n",
              "</style>\n",
              "<table border=\"1\" class=\"dataframe\">\n",
              "  <thead>\n",
              "    <tr style=\"text-align: right;\">\n",
              "      <th></th>\n",
              "      <th>Unnamed: 0</th>\n",
              "      <th>session_no</th>\n",
              "      <th>src</th>\n",
              "      <th>src_city</th>\n",
              "      <th>src_region</th>\n",
              "      <th>src_country</th>\n",
              "      <th>dest</th>\n",
              "      <th>Hop_No</th>\n",
              "      <th>avg_rtt</th>\n",
              "      <th>IP_Address</th>\n",
              "      <th>City</th>\n",
              "      <th>Region_Name</th>\n",
              "      <th>Country</th>\n",
              "    </tr>\n",
              "  </thead>\n",
              "  <tbody>\n",
              "    <tr>\n",
              "      <th>0</th>\n",
              "      <td>0</td>\n",
              "      <td>0</td>\n",
              "      <td>10.0.16.155</td>\n",
              "      <td>Nandigāma</td>\n",
              "      <td>Andhra Pradesh</td>\n",
              "      <td>IN</td>\n",
              "      <td>google</td>\n",
              "      <td>1</td>\n",
              "      <td>4</td>\n",
              "      <td>203.129.246.53</td>\n",
              "      <td>Nandigāma</td>\n",
              "      <td>Andhra Pradesh</td>\n",
              "      <td>IN</td>\n",
              "    </tr>\n",
              "    <tr>\n",
              "      <th>1</th>\n",
              "      <td>1</td>\n",
              "      <td>0</td>\n",
              "      <td>10.0.16.155</td>\n",
              "      <td>Nandigāma</td>\n",
              "      <td>Andhra Pradesh</td>\n",
              "      <td>IN</td>\n",
              "      <td>google</td>\n",
              "      <td>2</td>\n",
              "      <td>4</td>\n",
              "      <td>203.129.218.109</td>\n",
              "      <td>Hubli</td>\n",
              "      <td>Karnataka</td>\n",
              "      <td>IN</td>\n",
              "    </tr>\n",
              "    <tr>\n",
              "      <th>2</th>\n",
              "      <td>2</td>\n",
              "      <td>0</td>\n",
              "      <td>10.0.16.155</td>\n",
              "      <td>Nandigāma</td>\n",
              "      <td>Andhra Pradesh</td>\n",
              "      <td>IN</td>\n",
              "      <td>google</td>\n",
              "      <td>3</td>\n",
              "      <td>6</td>\n",
              "      <td>61.1.117.54</td>\n",
              "      <td>Bengaluru</td>\n",
              "      <td>Karnataka</td>\n",
              "      <td>IN</td>\n",
              "    </tr>\n",
              "    <tr>\n",
              "      <th>3</th>\n",
              "      <td>3</td>\n",
              "      <td>0</td>\n",
              "      <td>10.0.16.155</td>\n",
              "      <td>Nandigāma</td>\n",
              "      <td>Andhra Pradesh</td>\n",
              "      <td>IN</td>\n",
              "      <td>google</td>\n",
              "      <td>4</td>\n",
              "      <td>24</td>\n",
              "      <td>117.216.207.115</td>\n",
              "      <td>Tanjore</td>\n",
              "      <td>Tamil Nadu</td>\n",
              "      <td>IN</td>\n",
              "    </tr>\n",
              "    <tr>\n",
              "      <th>4</th>\n",
              "      <td>4</td>\n",
              "      <td>0</td>\n",
              "      <td>10.0.16.155</td>\n",
              "      <td>Nandigāma</td>\n",
              "      <td>Andhra Pradesh</td>\n",
              "      <td>IN</td>\n",
              "      <td>google</td>\n",
              "      <td>5</td>\n",
              "      <td>26</td>\n",
              "      <td>142.250.160.26</td>\n",
              "      <td>Chennai</td>\n",
              "      <td>Tamil Nadu</td>\n",
              "      <td>IN</td>\n",
              "    </tr>\n",
              "    <tr>\n",
              "      <th>...</th>\n",
              "      <td>...</td>\n",
              "      <td>...</td>\n",
              "      <td>...</td>\n",
              "      <td>...</td>\n",
              "      <td>...</td>\n",
              "      <td>...</td>\n",
              "      <td>...</td>\n",
              "      <td>...</td>\n",
              "      <td>...</td>\n",
              "      <td>...</td>\n",
              "      <td>...</td>\n",
              "      <td>...</td>\n",
              "      <td>...</td>\n",
              "    </tr>\n",
              "    <tr>\n",
              "      <th>1652</th>\n",
              "      <td>1</td>\n",
              "      <td>74</td>\n",
              "      <td>10.0.3.194</td>\n",
              "      <td>Delhi</td>\n",
              "      <td>Delhi</td>\n",
              "      <td>IN</td>\n",
              "      <td>amazon</td>\n",
              "      <td>2</td>\n",
              "      <td>18</td>\n",
              "      <td>116.119.72.96</td>\n",
              "      <td>Gurgaon</td>\n",
              "      <td>Haryana</td>\n",
              "      <td>IN</td>\n",
              "    </tr>\n",
              "    <tr>\n",
              "      <th>1653</th>\n",
              "      <td>2</td>\n",
              "      <td>74</td>\n",
              "      <td>10.0.3.194</td>\n",
              "      <td>Delhi</td>\n",
              "      <td>Delhi</td>\n",
              "      <td>IN</td>\n",
              "      <td>amazon</td>\n",
              "      <td>3</td>\n",
              "      <td>33</td>\n",
              "      <td>182.79.142.123</td>\n",
              "      <td>Hyderābād</td>\n",
              "      <td>Telangana</td>\n",
              "      <td>IN</td>\n",
              "    </tr>\n",
              "    <tr>\n",
              "      <th>1654</th>\n",
              "      <td>3</td>\n",
              "      <td>74</td>\n",
              "      <td>10.0.3.194</td>\n",
              "      <td>Delhi</td>\n",
              "      <td>Delhi</td>\n",
              "      <td>IN</td>\n",
              "      <td>amazon</td>\n",
              "      <td>4</td>\n",
              "      <td>48</td>\n",
              "      <td>23.56.136.206</td>\n",
              "      <td>Mumbai</td>\n",
              "      <td>Maharashtra</td>\n",
              "      <td>IN</td>\n",
              "    </tr>\n",
              "    <tr>\n",
              "      <th>1655</th>\n",
              "      <td>4</td>\n",
              "      <td>74</td>\n",
              "      <td>10.0.3.194</td>\n",
              "      <td>Delhi</td>\n",
              "      <td>Delhi</td>\n",
              "      <td>IN</td>\n",
              "      <td>amazon</td>\n",
              "      <td>5</td>\n",
              "      <td>100</td>\n",
              "      <td>104.70.118.197</td>\n",
              "      <td>Mumbai</td>\n",
              "      <td>Maharashtra</td>\n",
              "      <td>IN</td>\n",
              "    </tr>\n",
              "    <tr>\n",
              "      <th>1656</th>\n",
              "      <td>5</td>\n",
              "      <td>74</td>\n",
              "      <td>10.0.3.194</td>\n",
              "      <td>Delhi</td>\n",
              "      <td>Delhi</td>\n",
              "      <td>IN</td>\n",
              "      <td>amazon</td>\n",
              "      <td>6</td>\n",
              "      <td>27</td>\n",
              "      <td>23.213.57.100</td>\n",
              "      <td>Mumbai</td>\n",
              "      <td>Maharashtra</td>\n",
              "      <td>IN</td>\n",
              "    </tr>\n",
              "  </tbody>\n",
              "</table>\n",
              "<p>1657 rows × 13 columns</p>\n",
              "</div>\n",
              "      <button class=\"colab-df-convert\" onclick=\"convertToInteractive('df-3a2dfaf5-988b-45f4-ac58-36d1f410a014')\"\n",
              "              title=\"Convert this dataframe to an interactive table.\"\n",
              "              style=\"display:none;\">\n",
              "        \n",
              "  <svg xmlns=\"http://www.w3.org/2000/svg\" height=\"24px\"viewBox=\"0 0 24 24\"\n",
              "       width=\"24px\">\n",
              "    <path d=\"M0 0h24v24H0V0z\" fill=\"none\"/>\n",
              "    <path d=\"M18.56 5.44l.94 2.06.94-2.06 2.06-.94-2.06-.94-.94-2.06-.94 2.06-2.06.94zm-11 1L8.5 8.5l.94-2.06 2.06-.94-2.06-.94L8.5 2.5l-.94 2.06-2.06.94zm10 10l.94 2.06.94-2.06 2.06-.94-2.06-.94-.94-2.06-.94 2.06-2.06.94z\"/><path d=\"M17.41 7.96l-1.37-1.37c-.4-.4-.92-.59-1.43-.59-.52 0-1.04.2-1.43.59L10.3 9.45l-7.72 7.72c-.78.78-.78 2.05 0 2.83L4 21.41c.39.39.9.59 1.41.59.51 0 1.02-.2 1.41-.59l7.78-7.78 2.81-2.81c.8-.78.8-2.07 0-2.86zM5.41 20L4 18.59l7.72-7.72 1.47 1.35L5.41 20z\"/>\n",
              "  </svg>\n",
              "      </button>\n",
              "      \n",
              "  <style>\n",
              "    .colab-df-container {\n",
              "      display:flex;\n",
              "      flex-wrap:wrap;\n",
              "      gap: 12px;\n",
              "    }\n",
              "\n",
              "    .colab-df-convert {\n",
              "      background-color: #E8F0FE;\n",
              "      border: none;\n",
              "      border-radius: 50%;\n",
              "      cursor: pointer;\n",
              "      display: none;\n",
              "      fill: #1967D2;\n",
              "      height: 32px;\n",
              "      padding: 0 0 0 0;\n",
              "      width: 32px;\n",
              "    }\n",
              "\n",
              "    .colab-df-convert:hover {\n",
              "      background-color: #E2EBFA;\n",
              "      box-shadow: 0px 1px 2px rgba(60, 64, 67, 0.3), 0px 1px 3px 1px rgba(60, 64, 67, 0.15);\n",
              "      fill: #174EA6;\n",
              "    }\n",
              "\n",
              "    [theme=dark] .colab-df-convert {\n",
              "      background-color: #3B4455;\n",
              "      fill: #D2E3FC;\n",
              "    }\n",
              "\n",
              "    [theme=dark] .colab-df-convert:hover {\n",
              "      background-color: #434B5C;\n",
              "      box-shadow: 0px 1px 3px 1px rgba(0, 0, 0, 0.15);\n",
              "      filter: drop-shadow(0px 1px 2px rgba(0, 0, 0, 0.3));\n",
              "      fill: #FFFFFF;\n",
              "    }\n",
              "  </style>\n",
              "\n",
              "      <script>\n",
              "        const buttonEl =\n",
              "          document.querySelector('#df-3a2dfaf5-988b-45f4-ac58-36d1f410a014 button.colab-df-convert');\n",
              "        buttonEl.style.display =\n",
              "          google.colab.kernel.accessAllowed ? 'block' : 'none';\n",
              "\n",
              "        async function convertToInteractive(key) {\n",
              "          const element = document.querySelector('#df-3a2dfaf5-988b-45f4-ac58-36d1f410a014');\n",
              "          const dataTable =\n",
              "            await google.colab.kernel.invokeFunction('convertToInteractive',\n",
              "                                                     [key], {});\n",
              "          if (!dataTable) return;\n",
              "\n",
              "          const docLinkHtml = 'Like what you see? Visit the ' +\n",
              "            '<a target=\"_blank\" href=https://colab.research.google.com/notebooks/data_table.ipynb>data table notebook</a>'\n",
              "            + ' to learn more about interactive tables.';\n",
              "          element.innerHTML = '';\n",
              "          dataTable['output_type'] = 'display_data';\n",
              "          await google.colab.output.renderOutput(dataTable, element);\n",
              "          const docLink = document.createElement('div');\n",
              "          docLink.innerHTML = docLinkHtml;\n",
              "          element.appendChild(docLink);\n",
              "        }\n",
              "      </script>\n",
              "    </div>\n",
              "  </div>\n",
              "  "
            ]
          },
          "metadata": {},
          "execution_count": 4
        }
      ]
    },
    {
      "cell_type": "code",
      "source": [
        "df[[\"Hop_No\",\"dest\"]]\n"
      ],
      "metadata": {
        "colab": {
          "base_uri": "https://localhost:8080/",
          "height": 424
        },
        "id": "tbh08QuJm5uU",
        "outputId": "1c539acd-7b02-4ada-e12b-3cc047ce0a3d"
      },
      "execution_count": null,
      "outputs": [
        {
          "output_type": "execute_result",
          "data": {
            "text/plain": [
              "      Hop_No    dest\n",
              "0          1  google\n",
              "1          2  google\n",
              "2          3  google\n",
              "3          4  google\n",
              "4          5  google\n",
              "...      ...     ...\n",
              "1652       2  amazon\n",
              "1653       3  amazon\n",
              "1654       4  amazon\n",
              "1655       5  amazon\n",
              "1656       6  amazon\n",
              "\n",
              "[1657 rows x 2 columns]"
            ],
            "text/html": [
              "\n",
              "  <div id=\"df-190560af-365c-4c2b-9aa7-49267f4ec699\">\n",
              "    <div class=\"colab-df-container\">\n",
              "      <div>\n",
              "<style scoped>\n",
              "    .dataframe tbody tr th:only-of-type {\n",
              "        vertical-align: middle;\n",
              "    }\n",
              "\n",
              "    .dataframe tbody tr th {\n",
              "        vertical-align: top;\n",
              "    }\n",
              "\n",
              "    .dataframe thead th {\n",
              "        text-align: right;\n",
              "    }\n",
              "</style>\n",
              "<table border=\"1\" class=\"dataframe\">\n",
              "  <thead>\n",
              "    <tr style=\"text-align: right;\">\n",
              "      <th></th>\n",
              "      <th>Hop_No</th>\n",
              "      <th>dest</th>\n",
              "    </tr>\n",
              "  </thead>\n",
              "  <tbody>\n",
              "    <tr>\n",
              "      <th>0</th>\n",
              "      <td>1</td>\n",
              "      <td>google</td>\n",
              "    </tr>\n",
              "    <tr>\n",
              "      <th>1</th>\n",
              "      <td>2</td>\n",
              "      <td>google</td>\n",
              "    </tr>\n",
              "    <tr>\n",
              "      <th>2</th>\n",
              "      <td>3</td>\n",
              "      <td>google</td>\n",
              "    </tr>\n",
              "    <tr>\n",
              "      <th>3</th>\n",
              "      <td>4</td>\n",
              "      <td>google</td>\n",
              "    </tr>\n",
              "    <tr>\n",
              "      <th>4</th>\n",
              "      <td>5</td>\n",
              "      <td>google</td>\n",
              "    </tr>\n",
              "    <tr>\n",
              "      <th>...</th>\n",
              "      <td>...</td>\n",
              "      <td>...</td>\n",
              "    </tr>\n",
              "    <tr>\n",
              "      <th>1652</th>\n",
              "      <td>2</td>\n",
              "      <td>amazon</td>\n",
              "    </tr>\n",
              "    <tr>\n",
              "      <th>1653</th>\n",
              "      <td>3</td>\n",
              "      <td>amazon</td>\n",
              "    </tr>\n",
              "    <tr>\n",
              "      <th>1654</th>\n",
              "      <td>4</td>\n",
              "      <td>amazon</td>\n",
              "    </tr>\n",
              "    <tr>\n",
              "      <th>1655</th>\n",
              "      <td>5</td>\n",
              "      <td>amazon</td>\n",
              "    </tr>\n",
              "    <tr>\n",
              "      <th>1656</th>\n",
              "      <td>6</td>\n",
              "      <td>amazon</td>\n",
              "    </tr>\n",
              "  </tbody>\n",
              "</table>\n",
              "<p>1657 rows × 2 columns</p>\n",
              "</div>\n",
              "      <button class=\"colab-df-convert\" onclick=\"convertToInteractive('df-190560af-365c-4c2b-9aa7-49267f4ec699')\"\n",
              "              title=\"Convert this dataframe to an interactive table.\"\n",
              "              style=\"display:none;\">\n",
              "        \n",
              "  <svg xmlns=\"http://www.w3.org/2000/svg\" height=\"24px\"viewBox=\"0 0 24 24\"\n",
              "       width=\"24px\">\n",
              "    <path d=\"M0 0h24v24H0V0z\" fill=\"none\"/>\n",
              "    <path d=\"M18.56 5.44l.94 2.06.94-2.06 2.06-.94-2.06-.94-.94-2.06-.94 2.06-2.06.94zm-11 1L8.5 8.5l.94-2.06 2.06-.94-2.06-.94L8.5 2.5l-.94 2.06-2.06.94zm10 10l.94 2.06.94-2.06 2.06-.94-2.06-.94-.94-2.06-.94 2.06-2.06.94z\"/><path d=\"M17.41 7.96l-1.37-1.37c-.4-.4-.92-.59-1.43-.59-.52 0-1.04.2-1.43.59L10.3 9.45l-7.72 7.72c-.78.78-.78 2.05 0 2.83L4 21.41c.39.39.9.59 1.41.59.51 0 1.02-.2 1.41-.59l7.78-7.78 2.81-2.81c.8-.78.8-2.07 0-2.86zM5.41 20L4 18.59l7.72-7.72 1.47 1.35L5.41 20z\"/>\n",
              "  </svg>\n",
              "      </button>\n",
              "      \n",
              "  <style>\n",
              "    .colab-df-container {\n",
              "      display:flex;\n",
              "      flex-wrap:wrap;\n",
              "      gap: 12px;\n",
              "    }\n",
              "\n",
              "    .colab-df-convert {\n",
              "      background-color: #E8F0FE;\n",
              "      border: none;\n",
              "      border-radius: 50%;\n",
              "      cursor: pointer;\n",
              "      display: none;\n",
              "      fill: #1967D2;\n",
              "      height: 32px;\n",
              "      padding: 0 0 0 0;\n",
              "      width: 32px;\n",
              "    }\n",
              "\n",
              "    .colab-df-convert:hover {\n",
              "      background-color: #E2EBFA;\n",
              "      box-shadow: 0px 1px 2px rgba(60, 64, 67, 0.3), 0px 1px 3px 1px rgba(60, 64, 67, 0.15);\n",
              "      fill: #174EA6;\n",
              "    }\n",
              "\n",
              "    [theme=dark] .colab-df-convert {\n",
              "      background-color: #3B4455;\n",
              "      fill: #D2E3FC;\n",
              "    }\n",
              "\n",
              "    [theme=dark] .colab-df-convert:hover {\n",
              "      background-color: #434B5C;\n",
              "      box-shadow: 0px 1px 3px 1px rgba(0, 0, 0, 0.15);\n",
              "      filter: drop-shadow(0px 1px 2px rgba(0, 0, 0, 0.3));\n",
              "      fill: #FFFFFF;\n",
              "    }\n",
              "  </style>\n",
              "\n",
              "      <script>\n",
              "        const buttonEl =\n",
              "          document.querySelector('#df-190560af-365c-4c2b-9aa7-49267f4ec699 button.colab-df-convert');\n",
              "        buttonEl.style.display =\n",
              "          google.colab.kernel.accessAllowed ? 'block' : 'none';\n",
              "\n",
              "        async function convertToInteractive(key) {\n",
              "          const element = document.querySelector('#df-190560af-365c-4c2b-9aa7-49267f4ec699');\n",
              "          const dataTable =\n",
              "            await google.colab.kernel.invokeFunction('convertToInteractive',\n",
              "                                                     [key], {});\n",
              "          if (!dataTable) return;\n",
              "\n",
              "          const docLinkHtml = 'Like what you see? Visit the ' +\n",
              "            '<a target=\"_blank\" href=https://colab.research.google.com/notebooks/data_table.ipynb>data table notebook</a>'\n",
              "            + ' to learn more about interactive tables.';\n",
              "          element.innerHTML = '';\n",
              "          dataTable['output_type'] = 'display_data';\n",
              "          await google.colab.output.renderOutput(dataTable, element);\n",
              "          const docLink = document.createElement('div');\n",
              "          docLink.innerHTML = docLinkHtml;\n",
              "          element.appendChild(docLink);\n",
              "        }\n",
              "      </script>\n",
              "    </div>\n",
              "  </div>\n",
              "  "
            ]
          },
          "metadata": {},
          "execution_count": 5
        }
      ]
    },
    {
      "cell_type": "code",
      "source": [
        "df[\"Hop_No\"]"
      ],
      "metadata": {
        "colab": {
          "base_uri": "https://localhost:8080/"
        },
        "id": "pkiJNE_anD63",
        "outputId": "5e85990e-bb0c-4503-c652-d8866eb97e2a"
      },
      "execution_count": null,
      "outputs": [
        {
          "output_type": "execute_result",
          "data": {
            "text/plain": [
              "0       1\n",
              "1       2\n",
              "2       3\n",
              "3       4\n",
              "4       5\n",
              "       ..\n",
              "1652    2\n",
              "1653    3\n",
              "1654    4\n",
              "1655    5\n",
              "1656    6\n",
              "Name: Hop_No, Length: 1657, dtype: int64"
            ]
          },
          "metadata": {},
          "execution_count": 6
        }
      ]
    },
    {
      "cell_type": "code",
      "source": [
        "df[\"dest\"].values"
      ],
      "metadata": {
        "colab": {
          "base_uri": "https://localhost:8080/"
        },
        "id": "cUkkSiPjnHzb",
        "outputId": "3ae18196-295c-4f13-9ad3-173f5d02f92d"
      },
      "execution_count": null,
      "outputs": [
        {
          "output_type": "execute_result",
          "data": {
            "text/plain": [
              "array(['google', 'google', 'google', ..., 'amazon', 'amazon', 'amazon'],\n",
              "      dtype=object)"
            ]
          },
          "metadata": {},
          "execution_count": 7
        }
      ]
    },
    {
      "cell_type": "code",
      "source": [
        "from sklearn.preprocessing import LabelEncoder\n",
        "\n",
        "le_dest = LabelEncoder()\n",
        "X = df[[\"src_city\", \"dest\", \"Hop_No\"]]\n",
        "X = X.values\n",
        "X[:,1] = le_dest.fit_transform(X[:,1])\n",
        "X"
      ],
      "metadata": {
        "colab": {
          "base_uri": "https://localhost:8080/"
        },
        "id": "awbsQTTWpY7h",
        "outputId": "a1aa7863-4820-4d24-83a2-61d0df41d02b"
      },
      "execution_count": null,
      "outputs": [
        {
          "output_type": "execute_result",
          "data": {
            "text/plain": [
              "array([['Nandigāma', 1, 1],\n",
              "       ['Nandigāma', 1, 2],\n",
              "       ['Nandigāma', 1, 3],\n",
              "       ...,\n",
              "       ['Delhi', 0, 4],\n",
              "       ['Delhi', 0, 5],\n",
              "       ['Delhi', 0, 6]], dtype=object)"
            ]
          },
          "metadata": {},
          "execution_count": 8
        }
      ]
    },
    {
      "cell_type": "code",
      "source": [
        "le_src_city = LabelEncoder()\n",
        "le_hop_city = LabelEncoder()\n",
        "y = df[\"City\"].values\n",
        "y"
      ],
      "metadata": {
        "colab": {
          "base_uri": "https://localhost:8080/"
        },
        "id": "SRY0ZFdnwIlp",
        "outputId": "5f6b4288-dc55-4955-cc1f-d249de616655"
      },
      "execution_count": null,
      "outputs": [
        {
          "output_type": "execute_result",
          "data": {
            "text/plain": [
              "array(['Nandigāma', 'Hubli', 'Bengaluru', ..., 'Mumbai', 'Mumbai',\n",
              "       'Mumbai'], dtype=object)"
            ]
          },
          "metadata": {},
          "execution_count": 9
        }
      ]
    },
    {
      "cell_type": "code",
      "source": [
        "y = le_hop_city.fit_transform(y)\n",
        "X[:, 0] = le_src_city.fit_transform(X[:, 0])\n",
        "y"
      ],
      "metadata": {
        "colab": {
          "base_uri": "https://localhost:8080/"
        },
        "id": "pYlod5A5xTCw",
        "outputId": "af819533-3fc1-4445-9bbc-cb43f9823289"
      },
      "execution_count": null,
      "outputs": [
        {
          "output_type": "execute_result",
          "data": {
            "text/plain": [
              "array([12,  8,  4, ..., 11, 11, 11])"
            ]
          },
          "metadata": {},
          "execution_count": 10
        }
      ]
    },
    {
      "cell_type": "code",
      "source": [
        "X"
      ],
      "metadata": {
        "colab": {
          "base_uri": "https://localhost:8080/"
        },
        "id": "QjGhRwlOHBV9",
        "outputId": "55f0dfdf-ca22-46eb-f4dc-c0c657640f3d"
      },
      "execution_count": null,
      "outputs": [
        {
          "output_type": "execute_result",
          "data": {
            "text/plain": [
              "array([[1, 1, 1],\n",
              "       [1, 1, 2],\n",
              "       [1, 1, 3],\n",
              "       ...,\n",
              "       [0, 0, 4],\n",
              "       [0, 0, 5],\n",
              "       [0, 0, 6]], dtype=object)"
            ]
          },
          "metadata": {},
          "execution_count": 11
        }
      ]
    },
    {
      "cell_type": "code",
      "source": [
        "X_train, X_test, y_train, y_test = train_test_split(X, y, test_size=0.2)\n",
        "len(X_train)"
      ],
      "metadata": {
        "colab": {
          "base_uri": "https://localhost:8080/"
        },
        "id": "R1EpSWD1xf4j",
        "outputId": "563b5975-359b-4578-bb53-52addf950fc2"
      },
      "execution_count": null,
      "outputs": [
        {
          "output_type": "execute_result",
          "data": {
            "text/plain": [
              "1325"
            ]
          },
          "metadata": {},
          "execution_count": 12
        }
      ]
    },
    {
      "cell_type": "code",
      "source": [
        "len(X_test)"
      ],
      "metadata": {
        "colab": {
          "base_uri": "https://localhost:8080/"
        },
        "id": "68uEDzfgxzeF",
        "outputId": "5093cbd6-4ed7-42fc-dfe6-1da5c03d10f7"
      },
      "execution_count": null,
      "outputs": [
        {
          "output_type": "execute_result",
          "data": {
            "text/plain": [
              "332"
            ]
          },
          "metadata": {},
          "execution_count": 13
        }
      ]
    },
    {
      "cell_type": "markdown",
      "source": [
        "**NAIVE BAYES MODEL**"
      ],
      "metadata": {
        "id": "yZG1dWDB9BB-"
      }
    },
    {
      "cell_type": "code",
      "source": [
        "from sklearn.naive_bayes import GaussianNB\n",
        "\n",
        "classifier = GaussianNB()\n",
        "classifier.fit(X_train, y_train)\n"
      ],
      "metadata": {
        "colab": {
          "base_uri": "https://localhost:8080/"
        },
        "id": "mKlUDoi1x1OI",
        "outputId": "063711b8-65a1-476e-d688-5db679f31b18"
      },
      "execution_count": null,
      "outputs": [
        {
          "output_type": "execute_result",
          "data": {
            "text/plain": [
              "GaussianNB()"
            ]
          },
          "metadata": {},
          "execution_count": 14
        }
      ]
    },
    {
      "cell_type": "code",
      "source": [
        "classifier.score(X_test, y_test)"
      ],
      "metadata": {
        "colab": {
          "base_uri": "https://localhost:8080/"
        },
        "id": "V3KgktBzyKgB",
        "outputId": "c4525c4d-13ea-460a-f374-410c858a18bb"
      },
      "execution_count": null,
      "outputs": [
        {
          "output_type": "execute_result",
          "data": {
            "text/plain": [
              "0.4578313253012048"
            ]
          },
          "metadata": {},
          "execution_count": 15
        }
      ]
    },
    {
      "cell_type": "code",
      "source": [
        "import joblib\n",
        "joblib.dump(classifier, \"NB_model\")\n",
        "\n"
      ],
      "metadata": {
        "colab": {
          "base_uri": "https://localhost:8080/"
        },
        "id": "--7evuEvyOlI",
        "outputId": "6e4efa5c-233f-4a36-e2a5-833d27fe0672"
      },
      "execution_count": null,
      "outputs": [
        {
          "output_type": "execute_result",
          "data": {
            "text/plain": [
              "['NB_model']"
            ]
          },
          "metadata": {},
          "execution_count": 16
        }
      ]
    },
    {
      "cell_type": "code",
      "source": [
        "np.save(\"src_city_classes.npy\", le_src_city.classes_)\n",
        "np.save(\"hop_city_classes.npy\", le_hop_city.classes_)\n",
        "np.save(\"dest_classes.npy\", le_dest.classes_)\n",
        "\n"
      ],
      "metadata": {
        "id": "LVBlF5DjDQHu"
      },
      "execution_count": null,
      "outputs": []
    },
    {
      "cell_type": "code",
      "source": [
        "test_encoder = LabelEncoder()\n",
        "test_encoder.classes_ = np.load(\"dest_classes.npy\", allow_pickle=True)"
      ],
      "metadata": {
        "id": "AUbBu2imEqvP"
      },
      "execution_count": null,
      "outputs": []
    },
    {
      "cell_type": "code",
      "source": [
        "t = test_encoder.inverse_transform([1])\n",
        "t"
      ],
      "metadata": {
        "colab": {
          "base_uri": "https://localhost:8080/"
        },
        "id": "K1YSqb0gFJ4h",
        "outputId": "78c055f0-9cd1-4f7d-ed77-9148e367d4a4"
      },
      "execution_count": null,
      "outputs": [
        {
          "output_type": "execute_result",
          "data": {
            "text/plain": [
              "array(['google'], dtype=object)"
            ]
          },
          "metadata": {},
          "execution_count": 19
        }
      ]
    },
    {
      "cell_type": "code",
      "source": [
        "test_encoder.classes_ = np.load(\"hop_city_classes.npy\", allow_pickle=True)\n",
        "t = test_encoder.inverse_transform([7,5,3,13])"
      ],
      "metadata": {
        "id": "CZ5ZdyvVIEHa"
      },
      "execution_count": null,
      "outputs": []
    },
    {
      "cell_type": "code",
      "source": [
        "t"
      ],
      "metadata": {
        "colab": {
          "base_uri": "https://localhost:8080/"
        },
        "id": "z6yU_Nh1JFIV",
        "outputId": "5053da2d-d4f6-4e68-dda1-36faf3cfec70"
      },
      "execution_count": null,
      "outputs": [
        {
          "output_type": "execute_result",
          "data": {
            "text/plain": [
              "array(['Gurgaon', 'Chennai', 'Ashburn', 'Nelamangala'], dtype=object)"
            ]
          },
          "metadata": {},
          "execution_count": 21
        }
      ]
    },
    {
      "cell_type": "code",
      "source": [
        "t = test_encoder.inverse_transform(y_test[:10])\n",
        "t"
      ],
      "metadata": {
        "colab": {
          "base_uri": "https://localhost:8080/"
        },
        "id": "Sj5X3-i-JF6r",
        "outputId": "fce77112-d705-46e7-b7e7-f4ea17a57998"
      },
      "execution_count": null,
      "outputs": [
        {
          "output_type": "execute_result",
          "data": {
            "text/plain": [
              "array(['Chennai', 'Delhi', 'Singapore', 'San Francisco', 'Hubli',\n",
              "       'Singapore', 'Delhi', 'Hyderābād', 'Hubli', 'Singapore'],\n",
              "      dtype=object)"
            ]
          },
          "metadata": {},
          "execution_count": 22
        }
      ]
    },
    {
      "cell_type": "markdown",
      "source": [
        "**DECISION TREE MODEL**"
      ],
      "metadata": {
        "id": "pd5Dkcv772g1"
      }
    },
    {
      "cell_type": "code",
      "source": [
        "from sklearn.tree import DecisionTreeClassifier\n",
        "dtc = DecisionTreeClassifier()\n",
        "dtc.fit(X_train, y_train)"
      ],
      "metadata": {
        "colab": {
          "base_uri": "https://localhost:8080/"
        },
        "id": "FG1o0YII75gW",
        "outputId": "03c250c9-fa6f-471d-f9f3-abd913182dfd"
      },
      "execution_count": null,
      "outputs": [
        {
          "output_type": "execute_result",
          "data": {
            "text/plain": [
              "DecisionTreeClassifier()"
            ]
          },
          "metadata": {},
          "execution_count": 23
        }
      ]
    },
    {
      "cell_type": "code",
      "source": [
        "dtc.score(X_test, y_test)"
      ],
      "metadata": {
        "colab": {
          "base_uri": "https://localhost:8080/"
        },
        "id": "_z_R1BIy8R8V",
        "outputId": "8b0f10de-3707-44bf-fbae-ac4d04a93e3c"
      },
      "execution_count": null,
      "outputs": [
        {
          "output_type": "execute_result",
          "data": {
            "text/plain": [
              "0.9036144578313253"
            ]
          },
          "metadata": {},
          "execution_count": 24
        }
      ]
    },
    {
      "cell_type": "code",
      "source": [
        "import joblib\n",
        "joblib.dump(dtc, \"DTC_model\")"
      ],
      "metadata": {
        "colab": {
          "base_uri": "https://localhost:8080/"
        },
        "id": "onB0r9jultw0",
        "outputId": "6b67dae2-b17f-4d4b-cf14-ab4f192983b9"
      },
      "execution_count": null,
      "outputs": [
        {
          "output_type": "execute_result",
          "data": {
            "text/plain": [
              "['DTC_model']"
            ]
          },
          "metadata": {},
          "execution_count": 25
        }
      ]
    },
    {
      "cell_type": "markdown",
      "source": [
        "**RANDOM FOREST MODEL**"
      ],
      "metadata": {
        "id": "SlZheHas8y9V"
      }
    },
    {
      "cell_type": "code",
      "source": [
        "from sklearn.ensemble import RandomForestClassifier\n",
        "\n",
        "rfc = RandomForestClassifier()\n",
        "rfc.fit(X_train, y_train)\n"
      ],
      "metadata": {
        "colab": {
          "base_uri": "https://localhost:8080/"
        },
        "id": "FYllJlvx8XsD",
        "outputId": "42b31ff6-570d-46d4-fdc4-2ac5e747ad6d"
      },
      "execution_count": null,
      "outputs": [
        {
          "output_type": "execute_result",
          "data": {
            "text/plain": [
              "RandomForestClassifier()"
            ]
          },
          "metadata": {},
          "execution_count": 26
        }
      ]
    },
    {
      "cell_type": "code",
      "source": [
        "rfc.score(X_test, y_test)"
      ],
      "metadata": {
        "colab": {
          "base_uri": "https://localhost:8080/"
        },
        "id": "Hcyzkolm9dMF",
        "outputId": "c772be2d-b554-43da-f091-397acffce537"
      },
      "execution_count": null,
      "outputs": [
        {
          "output_type": "execute_result",
          "data": {
            "text/plain": [
              "0.9006024096385542"
            ]
          },
          "metadata": {},
          "execution_count": 27
        }
      ]
    },
    {
      "cell_type": "code",
      "source": [
        "predict_inverse(rfc, [le_src_city, le_dest, le_hop_city], 'Nandigāma', 'amazon', 5)"
      ],
      "metadata": {
        "colab": {
          "base_uri": "https://localhost:8080/"
        },
        "id": "P4nqB1EpJ2dO",
        "outputId": "60c556db-a8ba-48af-d542-1bbef227d2f8"
      },
      "execution_count": null,
      "outputs": [
        {
          "output_type": "stream",
          "name": "stderr",
          "text": [
            "/usr/local/lib/python3.7/dist-packages/geopy/geocoders/osm.py:143: UserWarning: Using Nominatim with the default \"geopy/1.17.0\" `user_agent` is strongly discouraged, as it violates Nominatim's ToS https://operations.osmfoundation.org/policies/nominatim/ and may possibly cause 403 and 429 HTTP errors. Please specify a custom `user_agent` with `Nominatim(user_agent=\"my-application\")` or by overriding the default `user_agent`: `geopy.geocoders.options.default_user_agent = \"my-application\"`. In geopy 2.0 this will become an exception.\n",
            "  UserWarning\n"
          ]
        },
        {
          "output_type": "execute_result",
          "data": {
            "text/plain": [
              "['Ashburn', 39.030019100000004, -77.46964646557657]"
            ]
          },
          "metadata": {},
          "execution_count": 28
        }
      ]
    },
    {
      "cell_type": "code",
      "source": [
        "import joblib\n",
        "joblib.dump(rfc, \"RFC_model\")"
      ],
      "metadata": {
        "colab": {
          "base_uri": "https://localhost:8080/"
        },
        "id": "JHyvLt7ylxuZ",
        "outputId": "abfd286a-29a8-4dd5-f806-3070d756ad62"
      },
      "execution_count": null,
      "outputs": [
        {
          "output_type": "execute_result",
          "data": {
            "text/plain": [
              "['RFC_model']"
            ]
          },
          "metadata": {},
          "execution_count": 29
        }
      ]
    },
    {
      "cell_type": "markdown",
      "source": [
        "#**Neural network**"
      ],
      "metadata": {
        "id": "OxEmY1c8kYh6"
      }
    },
    {
      "cell_type": "code",
      "source": [
        "from sklearn.neural_network import MLPClassifier\n",
        "NN_model = MLPClassifier(max_iter = 2000)\n",
        "NN_model.fit(X_train, y_train)\n",
        "NN_model.score(X_test, y_test)"
      ],
      "metadata": {
        "colab": {
          "base_uri": "https://localhost:8080/"
        },
        "id": "frgWqJcyN1km",
        "outputId": "cfb10a0a-a6eb-42a0-c574-f72506e5c577"
      },
      "execution_count": null,
      "outputs": [
        {
          "output_type": "execute_result",
          "data": {
            "text/plain": [
              "0.8945783132530121"
            ]
          },
          "metadata": {},
          "execution_count": 30
        }
      ]
    },
    {
      "cell_type": "code",
      "source": [
        "predict_inverse(NN_model, [le_src_city, le_dest, le_hop_city], 'Nandigāma', 'amazon', 5)"
      ],
      "metadata": {
        "colab": {
          "base_uri": "https://localhost:8080/"
        },
        "id": "VSlCSHHHYofU",
        "outputId": "47f7aca0-ebf8-4b07-d745-f8a29445d45f"
      },
      "execution_count": null,
      "outputs": [
        {
          "output_type": "stream",
          "name": "stderr",
          "text": [
            "/usr/local/lib/python3.7/dist-packages/sklearn/base.py:566: FutureWarning: Arrays of bytes/strings is being converted to decimal numbers if dtype='numeric'. This behavior is deprecated in 0.24 and will be removed in 1.1 (renaming of 0.26). Please convert your data to numeric values explicitly instead.\n",
            "  X = check_array(X, **check_params)\n",
            "/usr/local/lib/python3.7/dist-packages/geopy/geocoders/osm.py:143: UserWarning: Using Nominatim with the default \"geopy/1.17.0\" `user_agent` is strongly discouraged, as it violates Nominatim's ToS https://operations.osmfoundation.org/policies/nominatim/ and may possibly cause 403 and 429 HTTP errors. Please specify a custom `user_agent` with `Nominatim(user_agent=\"my-application\")` or by overriding the default `user_agent`: `geopy.geocoders.options.default_user_agent = \"my-application\"`. In geopy 2.0 this will become an exception.\n",
            "  UserWarning\n"
          ]
        },
        {
          "output_type": "execute_result",
          "data": {
            "text/plain": [
              "['Singapore', 1.357107, 103.8194992]"
            ]
          },
          "metadata": {},
          "execution_count": 31
        }
      ]
    },
    {
      "cell_type": "code",
      "source": [
        "import joblib\n",
        "joblib.dump(NN_model, \"NN_model\")"
      ],
      "metadata": {
        "colab": {
          "base_uri": "https://localhost:8080/"
        },
        "id": "C_eu4nsrZX_a",
        "outputId": "bafc7977-edbf-48b0-e132-7d8e54f81e25"
      },
      "execution_count": null,
      "outputs": [
        {
          "output_type": "execute_result",
          "data": {
            "text/plain": [
              "['NN_model']"
            ]
          },
          "metadata": {},
          "execution_count": 32
        }
      ]
    },
    {
      "cell_type": "code",
      "source": [
        "X_test[0]"
      ],
      "metadata": {
        "id": "HKGArnZV1agE",
        "outputId": "a1262521-f337-4e33-f9d6-2daf30f4cd05",
        "colab": {
          "base_uri": "https://localhost:8080/"
        }
      },
      "execution_count": null,
      "outputs": [
        {
          "output_type": "execute_result",
          "data": {
            "text/plain": [
              "array([0, 1, 6], dtype=object)"
            ]
          },
          "metadata": {},
          "execution_count": 33
        }
      ]
    },
    {
      "cell_type": "code",
      "source": [
        "y_test[0]"
      ],
      "metadata": {
        "id": "1KG-Y59Z1cNq",
        "outputId": "12e3b77a-64b0-46f9-8db9-2c69be60d0f1",
        "colab": {
          "base_uri": "https://localhost:8080/"
        }
      },
      "execution_count": null,
      "outputs": [
        {
          "output_type": "execute_result",
          "data": {
            "text/plain": [
              "5"
            ]
          },
          "metadata": {},
          "execution_count": 34
        }
      ]
    },
    {
      "cell_type": "code",
      "source": [
        "predict_inverse(NN_model, [le_src_city, le_dest, le_hop_city], 'Nandigāma', 'amazon', 6)"
      ],
      "metadata": {
        "id": "vxBmktRq1eJZ",
        "colab": {
          "base_uri": "https://localhost:8080/"
        },
        "outputId": "835ed345-65ff-4470-c476-4c81786a791b"
      },
      "execution_count": null,
      "outputs": [
        {
          "output_type": "stream",
          "name": "stderr",
          "text": [
            "/usr/local/lib/python3.7/dist-packages/sklearn/base.py:566: FutureWarning: Arrays of bytes/strings is being converted to decimal numbers if dtype='numeric'. This behavior is deprecated in 0.24 and will be removed in 1.1 (renaming of 0.26). Please convert your data to numeric values explicitly instead.\n",
            "  X = check_array(X, **check_params)\n",
            "/usr/local/lib/python3.7/dist-packages/geopy/geocoders/osm.py:143: UserWarning: Using Nominatim with the default \"geopy/1.17.0\" `user_agent` is strongly discouraged, as it violates Nominatim's ToS https://operations.osmfoundation.org/policies/nominatim/ and may possibly cause 403 and 429 HTTP errors. Please specify a custom `user_agent` with `Nominatim(user_agent=\"my-application\")` or by overriding the default `user_agent`: `geopy.geocoders.options.default_user_agent = \"my-application\"`. In geopy 2.0 this will become an exception.\n",
            "  UserWarning\n"
          ]
        },
        {
          "output_type": "execute_result",
          "data": {
            "text/plain": [
              "['Pallāvaram', 12.989815700000001, 80.10098654184341]"
            ]
          },
          "metadata": {},
          "execution_count": 36
        }
      ]
    }
  ]
}