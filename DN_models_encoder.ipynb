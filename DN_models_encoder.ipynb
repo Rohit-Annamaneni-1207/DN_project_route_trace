{
  "nbformat": 4,
  "nbformat_minor": 0,
  "metadata": {
    "colab": {
      "provenance": [],
      "toc_visible": true,
      "authorship_tag": "ABX9TyNi3LanWJP4ufOgXIgog3iu",
      "include_colab_link": true
    },
    "kernelspec": {
      "name": "python3",
      "display_name": "Python 3"
    },
    "language_info": {
      "name": "python"
    }
  },
  "cells": [
    {
      "cell_type": "markdown",
      "metadata": {
        "id": "view-in-github",
        "colab_type": "text"
      },
      "source": [
        "<a href=\"https://colab.research.google.com/github/Rohit-Annamaneni-1207/DN_project_route_trace/blob/main/DN_models_encoder.ipynb\" target=\"_parent\"><img src=\"https://colab.research.google.com/assets/colab-badge.svg\" alt=\"Open In Colab\"/></a>"
      ]
    },
    {
      "cell_type": "code",
      "execution_count": null,
      "metadata": {
        "id": "XJ-SnH6PkoNl"
      },
      "outputs": [],
      "source": [
        "import pandas as pd\n",
        "import numpy as np\n",
        "from sklearn.model_selection import train_test_split\n",
        "from geopy.geocoders import Nominatim"
      ]
    },
    {
      "cell_type": "markdown",
      "source": [
        "**PREPROCESSING FOR NAIVE BAYES, DECISION TREE AND RANDOM FOREST**"
      ],
      "metadata": {
        "id": "sEii9T048r8o"
      }
    },
    {
      "cell_type": "code",
      "source": [
        "def latitude_longitude(place):\n",
        "  geolocator = Nominatim()\n",
        "  location = geolocator.geocode(place)\n",
        "  lat=location.latitude\n",
        "  lon=location.longitude\n",
        "  return [lat, lon]\n",
        "\n",
        "def predict_inverse(model, encoders, src_city, dest, hop_no):\n",
        "  le_src_city = encoders[0]\n",
        "  le_dest = encoders[1]\n",
        "  le_hop_city = encoders[2]\n",
        "\n",
        "  X = np.array([src_city, dest, hop_no])\n",
        "  X[0] = le_src_city.transform([X[0]])[0]\n",
        "  X[1] = le_dest.transform([X[1]])[0]\n",
        "  # print(X)\n",
        "\n",
        "  y = model.predict([X])\n",
        "  # print(y)\n",
        "  y = le_hop_city.inverse_transform([y[0]])[0]\n",
        "  return [y] + latitude_longitude(y)\n",
        "\n",
        "\n",
        "\n"
      ],
      "metadata": {
        "id": "uphAUeoR9h1k"
      },
      "execution_count": null,
      "outputs": []
    },
    {
      "cell_type": "code",
      "source": [
        "url = \"https://raw.githubusercontent.com/Rohit-Annamaneni-1207/DN_project_route_trace/main/route_data.csv\"\n",
        "url = \"https://raw.githubusercontent.com/Rohit-Annamaneni-1207/DN_project_route_trace/main/route_data_updated.csv\"\n",
        "df = pd.read_csv(url, encoding = \"utf-8\")"
      ],
      "metadata": {
        "id": "R9ON2SeImPzn"
      },
      "execution_count": null,
      "outputs": []
    },
    {
      "cell_type": "code",
      "source": [
        "df"
      ],
      "metadata": {
        "colab": {
          "base_uri": "https://localhost:8080/",
          "height": 592
        },
        "id": "mOhhGw10mbqh",
        "outputId": "0eb3079e-a2e6-4bff-94d1-99f847eaa194"
      },
      "execution_count": null,
      "outputs": [
        {
          "output_type": "execute_result",
          "data": {
            "text/plain": [
              "      Unnamed: 0  session_no          src   src_city      src_region  \\\n",
              "0              0           0  10.0.16.155  Nandigāma  Andhra Pradesh   \n",
              "1              1           0  10.0.16.155  Nandigāma  Andhra Pradesh   \n",
              "2              2           0  10.0.16.155  Nandigāma  Andhra Pradesh   \n",
              "3              3           0  10.0.16.155  Nandigāma  Andhra Pradesh   \n",
              "4              4           0  10.0.16.155  Nandigāma  Andhra Pradesh   \n",
              "...          ...         ...          ...        ...             ...   \n",
              "1652           1          74   10.0.3.194      Delhi           Delhi   \n",
              "1653           2          74   10.0.3.194      Delhi           Delhi   \n",
              "1654           3          74   10.0.3.194      Delhi           Delhi   \n",
              "1655           4          74   10.0.3.194      Delhi           Delhi   \n",
              "1656           5          74   10.0.3.194      Delhi           Delhi   \n",
              "\n",
              "     src_country    dest  Hop_No  avg_rtt       IP_Address       City  \\\n",
              "0             IN  google       1        4   203.129.246.53  Nandigāma   \n",
              "1             IN  google       2        4  203.129.218.109      Hubli   \n",
              "2             IN  google       3        6      61.1.117.54  Bengaluru   \n",
              "3             IN  google       4       24  117.216.207.115    Tanjore   \n",
              "4             IN  google       5       26   142.250.160.26    Chennai   \n",
              "...          ...     ...     ...      ...              ...        ...   \n",
              "1652          IN  amazon       2       18    116.119.72.96    Gurgaon   \n",
              "1653          IN  amazon       3       33   182.79.142.123  Hyderābād   \n",
              "1654          IN  amazon       4       48    23.56.136.206     Mumbai   \n",
              "1655          IN  amazon       5      100   104.70.118.197     Mumbai   \n",
              "1656          IN  amazon       6       27    23.213.57.100     Mumbai   \n",
              "\n",
              "         Region_Name Country  \n",
              "0     Andhra Pradesh      IN  \n",
              "1          Karnataka      IN  \n",
              "2          Karnataka      IN  \n",
              "3         Tamil Nadu      IN  \n",
              "4         Tamil Nadu      IN  \n",
              "...              ...     ...  \n",
              "1652         Haryana      IN  \n",
              "1653       Telangana      IN  \n",
              "1654     Maharashtra      IN  \n",
              "1655     Maharashtra      IN  \n",
              "1656     Maharashtra      IN  \n",
              "\n",
              "[1657 rows x 13 columns]"
            ],
            "text/html": [
              "\n",
              "  <div id=\"df-22417559-aa7e-48fe-8592-ff831856048c\">\n",
              "    <div class=\"colab-df-container\">\n",
              "      <div>\n",
              "<style scoped>\n",
              "    .dataframe tbody tr th:only-of-type {\n",
              "        vertical-align: middle;\n",
              "    }\n",
              "\n",
              "    .dataframe tbody tr th {\n",
              "        vertical-align: top;\n",
              "    }\n",
              "\n",
              "    .dataframe thead th {\n",
              "        text-align: right;\n",
              "    }\n",
              "</style>\n",
              "<table border=\"1\" class=\"dataframe\">\n",
              "  <thead>\n",
              "    <tr style=\"text-align: right;\">\n",
              "      <th></th>\n",
              "      <th>Unnamed: 0</th>\n",
              "      <th>session_no</th>\n",
              "      <th>src</th>\n",
              "      <th>src_city</th>\n",
              "      <th>src_region</th>\n",
              "      <th>src_country</th>\n",
              "      <th>dest</th>\n",
              "      <th>Hop_No</th>\n",
              "      <th>avg_rtt</th>\n",
              "      <th>IP_Address</th>\n",
              "      <th>City</th>\n",
              "      <th>Region_Name</th>\n",
              "      <th>Country</th>\n",
              "    </tr>\n",
              "  </thead>\n",
              "  <tbody>\n",
              "    <tr>\n",
              "      <th>0</th>\n",
              "      <td>0</td>\n",
              "      <td>0</td>\n",
              "      <td>10.0.16.155</td>\n",
              "      <td>Nandigāma</td>\n",
              "      <td>Andhra Pradesh</td>\n",
              "      <td>IN</td>\n",
              "      <td>google</td>\n",
              "      <td>1</td>\n",
              "      <td>4</td>\n",
              "      <td>203.129.246.53</td>\n",
              "      <td>Nandigāma</td>\n",
              "      <td>Andhra Pradesh</td>\n",
              "      <td>IN</td>\n",
              "    </tr>\n",
              "    <tr>\n",
              "      <th>1</th>\n",
              "      <td>1</td>\n",
              "      <td>0</td>\n",
              "      <td>10.0.16.155</td>\n",
              "      <td>Nandigāma</td>\n",
              "      <td>Andhra Pradesh</td>\n",
              "      <td>IN</td>\n",
              "      <td>google</td>\n",
              "      <td>2</td>\n",
              "      <td>4</td>\n",
              "      <td>203.129.218.109</td>\n",
              "      <td>Hubli</td>\n",
              "      <td>Karnataka</td>\n",
              "      <td>IN</td>\n",
              "    </tr>\n",
              "    <tr>\n",
              "      <th>2</th>\n",
              "      <td>2</td>\n",
              "      <td>0</td>\n",
              "      <td>10.0.16.155</td>\n",
              "      <td>Nandigāma</td>\n",
              "      <td>Andhra Pradesh</td>\n",
              "      <td>IN</td>\n",
              "      <td>google</td>\n",
              "      <td>3</td>\n",
              "      <td>6</td>\n",
              "      <td>61.1.117.54</td>\n",
              "      <td>Bengaluru</td>\n",
              "      <td>Karnataka</td>\n",
              "      <td>IN</td>\n",
              "    </tr>\n",
              "    <tr>\n",
              "      <th>3</th>\n",
              "      <td>3</td>\n",
              "      <td>0</td>\n",
              "      <td>10.0.16.155</td>\n",
              "      <td>Nandigāma</td>\n",
              "      <td>Andhra Pradesh</td>\n",
              "      <td>IN</td>\n",
              "      <td>google</td>\n",
              "      <td>4</td>\n",
              "      <td>24</td>\n",
              "      <td>117.216.207.115</td>\n",
              "      <td>Tanjore</td>\n",
              "      <td>Tamil Nadu</td>\n",
              "      <td>IN</td>\n",
              "    </tr>\n",
              "    <tr>\n",
              "      <th>4</th>\n",
              "      <td>4</td>\n",
              "      <td>0</td>\n",
              "      <td>10.0.16.155</td>\n",
              "      <td>Nandigāma</td>\n",
              "      <td>Andhra Pradesh</td>\n",
              "      <td>IN</td>\n",
              "      <td>google</td>\n",
              "      <td>5</td>\n",
              "      <td>26</td>\n",
              "      <td>142.250.160.26</td>\n",
              "      <td>Chennai</td>\n",
              "      <td>Tamil Nadu</td>\n",
              "      <td>IN</td>\n",
              "    </tr>\n",
              "    <tr>\n",
              "      <th>...</th>\n",
              "      <td>...</td>\n",
              "      <td>...</td>\n",
              "      <td>...</td>\n",
              "      <td>...</td>\n",
              "      <td>...</td>\n",
              "      <td>...</td>\n",
              "      <td>...</td>\n",
              "      <td>...</td>\n",
              "      <td>...</td>\n",
              "      <td>...</td>\n",
              "      <td>...</td>\n",
              "      <td>...</td>\n",
              "      <td>...</td>\n",
              "    </tr>\n",
              "    <tr>\n",
              "      <th>1652</th>\n",
              "      <td>1</td>\n",
              "      <td>74</td>\n",
              "      <td>10.0.3.194</td>\n",
              "      <td>Delhi</td>\n",
              "      <td>Delhi</td>\n",
              "      <td>IN</td>\n",
              "      <td>amazon</td>\n",
              "      <td>2</td>\n",
              "      <td>18</td>\n",
              "      <td>116.119.72.96</td>\n",
              "      <td>Gurgaon</td>\n",
              "      <td>Haryana</td>\n",
              "      <td>IN</td>\n",
              "    </tr>\n",
              "    <tr>\n",
              "      <th>1653</th>\n",
              "      <td>2</td>\n",
              "      <td>74</td>\n",
              "      <td>10.0.3.194</td>\n",
              "      <td>Delhi</td>\n",
              "      <td>Delhi</td>\n",
              "      <td>IN</td>\n",
              "      <td>amazon</td>\n",
              "      <td>3</td>\n",
              "      <td>33</td>\n",
              "      <td>182.79.142.123</td>\n",
              "      <td>Hyderābād</td>\n",
              "      <td>Telangana</td>\n",
              "      <td>IN</td>\n",
              "    </tr>\n",
              "    <tr>\n",
              "      <th>1654</th>\n",
              "      <td>3</td>\n",
              "      <td>74</td>\n",
              "      <td>10.0.3.194</td>\n",
              "      <td>Delhi</td>\n",
              "      <td>Delhi</td>\n",
              "      <td>IN</td>\n",
              "      <td>amazon</td>\n",
              "      <td>4</td>\n",
              "      <td>48</td>\n",
              "      <td>23.56.136.206</td>\n",
              "      <td>Mumbai</td>\n",
              "      <td>Maharashtra</td>\n",
              "      <td>IN</td>\n",
              "    </tr>\n",
              "    <tr>\n",
              "      <th>1655</th>\n",
              "      <td>4</td>\n",
              "      <td>74</td>\n",
              "      <td>10.0.3.194</td>\n",
              "      <td>Delhi</td>\n",
              "      <td>Delhi</td>\n",
              "      <td>IN</td>\n",
              "      <td>amazon</td>\n",
              "      <td>5</td>\n",
              "      <td>100</td>\n",
              "      <td>104.70.118.197</td>\n",
              "      <td>Mumbai</td>\n",
              "      <td>Maharashtra</td>\n",
              "      <td>IN</td>\n",
              "    </tr>\n",
              "    <tr>\n",
              "      <th>1656</th>\n",
              "      <td>5</td>\n",
              "      <td>74</td>\n",
              "      <td>10.0.3.194</td>\n",
              "      <td>Delhi</td>\n",
              "      <td>Delhi</td>\n",
              "      <td>IN</td>\n",
              "      <td>amazon</td>\n",
              "      <td>6</td>\n",
              "      <td>27</td>\n",
              "      <td>23.213.57.100</td>\n",
              "      <td>Mumbai</td>\n",
              "      <td>Maharashtra</td>\n",
              "      <td>IN</td>\n",
              "    </tr>\n",
              "  </tbody>\n",
              "</table>\n",
              "<p>1657 rows × 13 columns</p>\n",
              "</div>\n",
              "      <button class=\"colab-df-convert\" onclick=\"convertToInteractive('df-22417559-aa7e-48fe-8592-ff831856048c')\"\n",
              "              title=\"Convert this dataframe to an interactive table.\"\n",
              "              style=\"display:none;\">\n",
              "        \n",
              "  <svg xmlns=\"http://www.w3.org/2000/svg\" height=\"24px\"viewBox=\"0 0 24 24\"\n",
              "       width=\"24px\">\n",
              "    <path d=\"M0 0h24v24H0V0z\" fill=\"none\"/>\n",
              "    <path d=\"M18.56 5.44l.94 2.06.94-2.06 2.06-.94-2.06-.94-.94-2.06-.94 2.06-2.06.94zm-11 1L8.5 8.5l.94-2.06 2.06-.94-2.06-.94L8.5 2.5l-.94 2.06-2.06.94zm10 10l.94 2.06.94-2.06 2.06-.94-2.06-.94-.94-2.06-.94 2.06-2.06.94z\"/><path d=\"M17.41 7.96l-1.37-1.37c-.4-.4-.92-.59-1.43-.59-.52 0-1.04.2-1.43.59L10.3 9.45l-7.72 7.72c-.78.78-.78 2.05 0 2.83L4 21.41c.39.39.9.59 1.41.59.51 0 1.02-.2 1.41-.59l7.78-7.78 2.81-2.81c.8-.78.8-2.07 0-2.86zM5.41 20L4 18.59l7.72-7.72 1.47 1.35L5.41 20z\"/>\n",
              "  </svg>\n",
              "      </button>\n",
              "      \n",
              "  <style>\n",
              "    .colab-df-container {\n",
              "      display:flex;\n",
              "      flex-wrap:wrap;\n",
              "      gap: 12px;\n",
              "    }\n",
              "\n",
              "    .colab-df-convert {\n",
              "      background-color: #E8F0FE;\n",
              "      border: none;\n",
              "      border-radius: 50%;\n",
              "      cursor: pointer;\n",
              "      display: none;\n",
              "      fill: #1967D2;\n",
              "      height: 32px;\n",
              "      padding: 0 0 0 0;\n",
              "      width: 32px;\n",
              "    }\n",
              "\n",
              "    .colab-df-convert:hover {\n",
              "      background-color: #E2EBFA;\n",
              "      box-shadow: 0px 1px 2px rgba(60, 64, 67, 0.3), 0px 1px 3px 1px rgba(60, 64, 67, 0.15);\n",
              "      fill: #174EA6;\n",
              "    }\n",
              "\n",
              "    [theme=dark] .colab-df-convert {\n",
              "      background-color: #3B4455;\n",
              "      fill: #D2E3FC;\n",
              "    }\n",
              "\n",
              "    [theme=dark] .colab-df-convert:hover {\n",
              "      background-color: #434B5C;\n",
              "      box-shadow: 0px 1px 3px 1px rgba(0, 0, 0, 0.15);\n",
              "      filter: drop-shadow(0px 1px 2px rgba(0, 0, 0, 0.3));\n",
              "      fill: #FFFFFF;\n",
              "    }\n",
              "  </style>\n",
              "\n",
              "      <script>\n",
              "        const buttonEl =\n",
              "          document.querySelector('#df-22417559-aa7e-48fe-8592-ff831856048c button.colab-df-convert');\n",
              "        buttonEl.style.display =\n",
              "          google.colab.kernel.accessAllowed ? 'block' : 'none';\n",
              "\n",
              "        async function convertToInteractive(key) {\n",
              "          const element = document.querySelector('#df-22417559-aa7e-48fe-8592-ff831856048c');\n",
              "          const dataTable =\n",
              "            await google.colab.kernel.invokeFunction('convertToInteractive',\n",
              "                                                     [key], {});\n",
              "          if (!dataTable) return;\n",
              "\n",
              "          const docLinkHtml = 'Like what you see? Visit the ' +\n",
              "            '<a target=\"_blank\" href=https://colab.research.google.com/notebooks/data_table.ipynb>data table notebook</a>'\n",
              "            + ' to learn more about interactive tables.';\n",
              "          element.innerHTML = '';\n",
              "          dataTable['output_type'] = 'display_data';\n",
              "          await google.colab.output.renderOutput(dataTable, element);\n",
              "          const docLink = document.createElement('div');\n",
              "          docLink.innerHTML = docLinkHtml;\n",
              "          element.appendChild(docLink);\n",
              "        }\n",
              "      </script>\n",
              "    </div>\n",
              "  </div>\n",
              "  "
            ]
          },
          "metadata": {},
          "execution_count": 4
        }
      ]
    },
    {
      "cell_type": "code",
      "source": [
        "df[[\"Hop_No\",\"dest\"]]\n"
      ],
      "metadata": {
        "colab": {
          "base_uri": "https://localhost:8080/",
          "height": 424
        },
        "id": "tbh08QuJm5uU",
        "outputId": "ad5a47da-39e0-47dc-8f26-b73fbc5f895b"
      },
      "execution_count": null,
      "outputs": [
        {
          "output_type": "execute_result",
          "data": {
            "text/plain": [
              "      Hop_No    dest\n",
              "0          1  google\n",
              "1          2  google\n",
              "2          3  google\n",
              "3          4  google\n",
              "4          5  google\n",
              "...      ...     ...\n",
              "1652       2  amazon\n",
              "1653       3  amazon\n",
              "1654       4  amazon\n",
              "1655       5  amazon\n",
              "1656       6  amazon\n",
              "\n",
              "[1657 rows x 2 columns]"
            ],
            "text/html": [
              "\n",
              "  <div id=\"df-3da35cc6-8b57-4c44-9fa2-7b1f017d29bb\">\n",
              "    <div class=\"colab-df-container\">\n",
              "      <div>\n",
              "<style scoped>\n",
              "    .dataframe tbody tr th:only-of-type {\n",
              "        vertical-align: middle;\n",
              "    }\n",
              "\n",
              "    .dataframe tbody tr th {\n",
              "        vertical-align: top;\n",
              "    }\n",
              "\n",
              "    .dataframe thead th {\n",
              "        text-align: right;\n",
              "    }\n",
              "</style>\n",
              "<table border=\"1\" class=\"dataframe\">\n",
              "  <thead>\n",
              "    <tr style=\"text-align: right;\">\n",
              "      <th></th>\n",
              "      <th>Hop_No</th>\n",
              "      <th>dest</th>\n",
              "    </tr>\n",
              "  </thead>\n",
              "  <tbody>\n",
              "    <tr>\n",
              "      <th>0</th>\n",
              "      <td>1</td>\n",
              "      <td>google</td>\n",
              "    </tr>\n",
              "    <tr>\n",
              "      <th>1</th>\n",
              "      <td>2</td>\n",
              "      <td>google</td>\n",
              "    </tr>\n",
              "    <tr>\n",
              "      <th>2</th>\n",
              "      <td>3</td>\n",
              "      <td>google</td>\n",
              "    </tr>\n",
              "    <tr>\n",
              "      <th>3</th>\n",
              "      <td>4</td>\n",
              "      <td>google</td>\n",
              "    </tr>\n",
              "    <tr>\n",
              "      <th>4</th>\n",
              "      <td>5</td>\n",
              "      <td>google</td>\n",
              "    </tr>\n",
              "    <tr>\n",
              "      <th>...</th>\n",
              "      <td>...</td>\n",
              "      <td>...</td>\n",
              "    </tr>\n",
              "    <tr>\n",
              "      <th>1652</th>\n",
              "      <td>2</td>\n",
              "      <td>amazon</td>\n",
              "    </tr>\n",
              "    <tr>\n",
              "      <th>1653</th>\n",
              "      <td>3</td>\n",
              "      <td>amazon</td>\n",
              "    </tr>\n",
              "    <tr>\n",
              "      <th>1654</th>\n",
              "      <td>4</td>\n",
              "      <td>amazon</td>\n",
              "    </tr>\n",
              "    <tr>\n",
              "      <th>1655</th>\n",
              "      <td>5</td>\n",
              "      <td>amazon</td>\n",
              "    </tr>\n",
              "    <tr>\n",
              "      <th>1656</th>\n",
              "      <td>6</td>\n",
              "      <td>amazon</td>\n",
              "    </tr>\n",
              "  </tbody>\n",
              "</table>\n",
              "<p>1657 rows × 2 columns</p>\n",
              "</div>\n",
              "      <button class=\"colab-df-convert\" onclick=\"convertToInteractive('df-3da35cc6-8b57-4c44-9fa2-7b1f017d29bb')\"\n",
              "              title=\"Convert this dataframe to an interactive table.\"\n",
              "              style=\"display:none;\">\n",
              "        \n",
              "  <svg xmlns=\"http://www.w3.org/2000/svg\" height=\"24px\"viewBox=\"0 0 24 24\"\n",
              "       width=\"24px\">\n",
              "    <path d=\"M0 0h24v24H0V0z\" fill=\"none\"/>\n",
              "    <path d=\"M18.56 5.44l.94 2.06.94-2.06 2.06-.94-2.06-.94-.94-2.06-.94 2.06-2.06.94zm-11 1L8.5 8.5l.94-2.06 2.06-.94-2.06-.94L8.5 2.5l-.94 2.06-2.06.94zm10 10l.94 2.06.94-2.06 2.06-.94-2.06-.94-.94-2.06-.94 2.06-2.06.94z\"/><path d=\"M17.41 7.96l-1.37-1.37c-.4-.4-.92-.59-1.43-.59-.52 0-1.04.2-1.43.59L10.3 9.45l-7.72 7.72c-.78.78-.78 2.05 0 2.83L4 21.41c.39.39.9.59 1.41.59.51 0 1.02-.2 1.41-.59l7.78-7.78 2.81-2.81c.8-.78.8-2.07 0-2.86zM5.41 20L4 18.59l7.72-7.72 1.47 1.35L5.41 20z\"/>\n",
              "  </svg>\n",
              "      </button>\n",
              "      \n",
              "  <style>\n",
              "    .colab-df-container {\n",
              "      display:flex;\n",
              "      flex-wrap:wrap;\n",
              "      gap: 12px;\n",
              "    }\n",
              "\n",
              "    .colab-df-convert {\n",
              "      background-color: #E8F0FE;\n",
              "      border: none;\n",
              "      border-radius: 50%;\n",
              "      cursor: pointer;\n",
              "      display: none;\n",
              "      fill: #1967D2;\n",
              "      height: 32px;\n",
              "      padding: 0 0 0 0;\n",
              "      width: 32px;\n",
              "    }\n",
              "\n",
              "    .colab-df-convert:hover {\n",
              "      background-color: #E2EBFA;\n",
              "      box-shadow: 0px 1px 2px rgba(60, 64, 67, 0.3), 0px 1px 3px 1px rgba(60, 64, 67, 0.15);\n",
              "      fill: #174EA6;\n",
              "    }\n",
              "\n",
              "    [theme=dark] .colab-df-convert {\n",
              "      background-color: #3B4455;\n",
              "      fill: #D2E3FC;\n",
              "    }\n",
              "\n",
              "    [theme=dark] .colab-df-convert:hover {\n",
              "      background-color: #434B5C;\n",
              "      box-shadow: 0px 1px 3px 1px rgba(0, 0, 0, 0.15);\n",
              "      filter: drop-shadow(0px 1px 2px rgba(0, 0, 0, 0.3));\n",
              "      fill: #FFFFFF;\n",
              "    }\n",
              "  </style>\n",
              "\n",
              "      <script>\n",
              "        const buttonEl =\n",
              "          document.querySelector('#df-3da35cc6-8b57-4c44-9fa2-7b1f017d29bb button.colab-df-convert');\n",
              "        buttonEl.style.display =\n",
              "          google.colab.kernel.accessAllowed ? 'block' : 'none';\n",
              "\n",
              "        async function convertToInteractive(key) {\n",
              "          const element = document.querySelector('#df-3da35cc6-8b57-4c44-9fa2-7b1f017d29bb');\n",
              "          const dataTable =\n",
              "            await google.colab.kernel.invokeFunction('convertToInteractive',\n",
              "                                                     [key], {});\n",
              "          if (!dataTable) return;\n",
              "\n",
              "          const docLinkHtml = 'Like what you see? Visit the ' +\n",
              "            '<a target=\"_blank\" href=https://colab.research.google.com/notebooks/data_table.ipynb>data table notebook</a>'\n",
              "            + ' to learn more about interactive tables.';\n",
              "          element.innerHTML = '';\n",
              "          dataTable['output_type'] = 'display_data';\n",
              "          await google.colab.output.renderOutput(dataTable, element);\n",
              "          const docLink = document.createElement('div');\n",
              "          docLink.innerHTML = docLinkHtml;\n",
              "          element.appendChild(docLink);\n",
              "        }\n",
              "      </script>\n",
              "    </div>\n",
              "  </div>\n",
              "  "
            ]
          },
          "metadata": {},
          "execution_count": 5
        }
      ]
    },
    {
      "cell_type": "code",
      "source": [
        "df[\"Hop_No\"]"
      ],
      "metadata": {
        "colab": {
          "base_uri": "https://localhost:8080/"
        },
        "id": "pkiJNE_anD63",
        "outputId": "62328746-89b6-4460-8195-fe172bb23ac7"
      },
      "execution_count": null,
      "outputs": [
        {
          "output_type": "execute_result",
          "data": {
            "text/plain": [
              "0       1\n",
              "1       2\n",
              "2       3\n",
              "3       4\n",
              "4       5\n",
              "       ..\n",
              "1652    2\n",
              "1653    3\n",
              "1654    4\n",
              "1655    5\n",
              "1656    6\n",
              "Name: Hop_No, Length: 1657, dtype: int64"
            ]
          },
          "metadata": {},
          "execution_count": 6
        }
      ]
    },
    {
      "cell_type": "code",
      "source": [
        "df[\"dest\"].values"
      ],
      "metadata": {
        "colab": {
          "base_uri": "https://localhost:8080/"
        },
        "id": "cUkkSiPjnHzb",
        "outputId": "63de5346-9ba1-46e7-e157-62fc170fb44d"
      },
      "execution_count": null,
      "outputs": [
        {
          "output_type": "execute_result",
          "data": {
            "text/plain": [
              "array(['google', 'google', 'google', ..., 'amazon', 'amazon', 'amazon'],\n",
              "      dtype=object)"
            ]
          },
          "metadata": {},
          "execution_count": 7
        }
      ]
    },
    {
      "cell_type": "code",
      "source": [
        "from sklearn.preprocessing import LabelEncoder\n",
        "\n",
        "le_dest = LabelEncoder()\n",
        "X = df[[\"src_city\", \"dest\", \"Hop_No\"]]\n",
        "X = X.values\n",
        "X[:,1] = le_dest.fit_transform(X[:,1])\n",
        "X"
      ],
      "metadata": {
        "colab": {
          "base_uri": "https://localhost:8080/"
        },
        "id": "awbsQTTWpY7h",
        "outputId": "1b590981-6592-4477-c756-2f7bb5d7a107"
      },
      "execution_count": null,
      "outputs": [
        {
          "output_type": "execute_result",
          "data": {
            "text/plain": [
              "array([['Nandigāma', 1, 1],\n",
              "       ['Nandigāma', 1, 2],\n",
              "       ['Nandigāma', 1, 3],\n",
              "       ...,\n",
              "       ['Delhi', 0, 4],\n",
              "       ['Delhi', 0, 5],\n",
              "       ['Delhi', 0, 6]], dtype=object)"
            ]
          },
          "metadata": {},
          "execution_count": 8
        }
      ]
    },
    {
      "cell_type": "code",
      "source": [
        "le_src_city = LabelEncoder()\n",
        "le_hop_city = LabelEncoder()\n",
        "y = df[\"City\"].values\n",
        "y"
      ],
      "metadata": {
        "colab": {
          "base_uri": "https://localhost:8080/"
        },
        "id": "SRY0ZFdnwIlp",
        "outputId": "39f15c72-8e83-46ad-9b81-6dd08ed97d1e"
      },
      "execution_count": null,
      "outputs": [
        {
          "output_type": "execute_result",
          "data": {
            "text/plain": [
              "array(['Nandigāma', 'Hubli', 'Bengaluru', ..., 'Mumbai', 'Mumbai',\n",
              "       'Mumbai'], dtype=object)"
            ]
          },
          "metadata": {},
          "execution_count": 9
        }
      ]
    },
    {
      "cell_type": "code",
      "source": [
        "y = le_hop_city.fit_transform(y)\n",
        "X[:, 0] = le_src_city.fit_transform(X[:, 0])\n",
        "y"
      ],
      "metadata": {
        "colab": {
          "base_uri": "https://localhost:8080/"
        },
        "id": "pYlod5A5xTCw",
        "outputId": "ee394dc7-4055-4ea8-e82d-95bd36b67c13"
      },
      "execution_count": null,
      "outputs": [
        {
          "output_type": "execute_result",
          "data": {
            "text/plain": [
              "array([12,  8,  4, ..., 11, 11, 11])"
            ]
          },
          "metadata": {},
          "execution_count": 10
        }
      ]
    },
    {
      "cell_type": "code",
      "source": [
        "X"
      ],
      "metadata": {
        "colab": {
          "base_uri": "https://localhost:8080/"
        },
        "id": "QjGhRwlOHBV9",
        "outputId": "1ffb6714-de65-414a-989e-73846c4332d3"
      },
      "execution_count": null,
      "outputs": [
        {
          "output_type": "execute_result",
          "data": {
            "text/plain": [
              "array([[1, 1, 1],\n",
              "       [1, 1, 2],\n",
              "       [1, 1, 3],\n",
              "       ...,\n",
              "       [0, 0, 4],\n",
              "       [0, 0, 5],\n",
              "       [0, 0, 6]], dtype=object)"
            ]
          },
          "metadata": {},
          "execution_count": 11
        }
      ]
    },
    {
      "cell_type": "code",
      "source": [
        "X_train, X_test, y_train, y_test = train_test_split(X, y, test_size=0.2)\n",
        "len(X_train)"
      ],
      "metadata": {
        "colab": {
          "base_uri": "https://localhost:8080/"
        },
        "id": "R1EpSWD1xf4j",
        "outputId": "1764e151-9cae-4a1e-90b1-8d58a4c908fa"
      },
      "execution_count": null,
      "outputs": [
        {
          "output_type": "execute_result",
          "data": {
            "text/plain": [
              "1325"
            ]
          },
          "metadata": {},
          "execution_count": 12
        }
      ]
    },
    {
      "cell_type": "code",
      "source": [
        "len(X_test)"
      ],
      "metadata": {
        "colab": {
          "base_uri": "https://localhost:8080/"
        },
        "id": "68uEDzfgxzeF",
        "outputId": "b60a5e3e-d844-4ed8-fbea-c1daec75399e"
      },
      "execution_count": null,
      "outputs": [
        {
          "output_type": "execute_result",
          "data": {
            "text/plain": [
              "332"
            ]
          },
          "metadata": {},
          "execution_count": 13
        }
      ]
    },
    {
      "cell_type": "markdown",
      "source": [
        "**NAIVE BAYES MODEL**"
      ],
      "metadata": {
        "id": "yZG1dWDB9BB-"
      }
    },
    {
      "cell_type": "code",
      "source": [
        "from sklearn.naive_bayes import GaussianNB\n",
        "\n",
        "classifier = GaussianNB()\n",
        "classifier.fit(X_train, y_train)\n"
      ],
      "metadata": {
        "colab": {
          "base_uri": "https://localhost:8080/"
        },
        "id": "mKlUDoi1x1OI",
        "outputId": "e11d3fa1-a9b3-429c-bec8-88afb7803584"
      },
      "execution_count": null,
      "outputs": [
        {
          "output_type": "execute_result",
          "data": {
            "text/plain": [
              "GaussianNB()"
            ]
          },
          "metadata": {},
          "execution_count": 14
        }
      ]
    },
    {
      "cell_type": "code",
      "source": [
        "classifier.score(X_test, y_test)"
      ],
      "metadata": {
        "colab": {
          "base_uri": "https://localhost:8080/"
        },
        "id": "V3KgktBzyKgB",
        "outputId": "f80abdb3-a32e-4587-8dce-0ba3f4d07f0c"
      },
      "execution_count": null,
      "outputs": [
        {
          "output_type": "execute_result",
          "data": {
            "text/plain": [
              "0.5"
            ]
          },
          "metadata": {},
          "execution_count": 15
        }
      ]
    },
    {
      "cell_type": "code",
      "source": [
        "import joblib\n",
        "joblib.dump(classifier, \"NB_model\")\n",
        "\n"
      ],
      "metadata": {
        "colab": {
          "base_uri": "https://localhost:8080/"
        },
        "id": "--7evuEvyOlI",
        "outputId": "3cc76875-3e6e-45e3-a5b7-7ed0d944ef77"
      },
      "execution_count": null,
      "outputs": [
        {
          "output_type": "execute_result",
          "data": {
            "text/plain": [
              "['NB_model']"
            ]
          },
          "metadata": {},
          "execution_count": 16
        }
      ]
    },
    {
      "cell_type": "code",
      "source": [
        "np.save(\"src_city_classes.npy\", le_src_city.classes_)\n",
        "np.save(\"hop_city_classes.npy\", le_hop_city.classes_)\n",
        "np.save(\"dest_classes.npy\", le_dest.classes_)\n",
        "\n"
      ],
      "metadata": {
        "id": "LVBlF5DjDQHu"
      },
      "execution_count": null,
      "outputs": []
    },
    {
      "cell_type": "code",
      "source": [
        "test_encoder = LabelEncoder()\n",
        "test_encoder.classes_ = np.load(\"dest_classes.npy\", allow_pickle=True)"
      ],
      "metadata": {
        "id": "AUbBu2imEqvP"
      },
      "execution_count": null,
      "outputs": []
    },
    {
      "cell_type": "code",
      "source": [
        "t = test_encoder.inverse_transform([1])\n",
        "t"
      ],
      "metadata": {
        "colab": {
          "base_uri": "https://localhost:8080/"
        },
        "id": "K1YSqb0gFJ4h",
        "outputId": "da60eb43-c79c-41c6-e265-43837fccd0cb"
      },
      "execution_count": null,
      "outputs": [
        {
          "output_type": "execute_result",
          "data": {
            "text/plain": [
              "array(['google'], dtype=object)"
            ]
          },
          "metadata": {},
          "execution_count": 19
        }
      ]
    },
    {
      "cell_type": "code",
      "source": [
        "test_encoder.classes_ = np.load(\"hop_city_classes.npy\", allow_pickle=True)\n",
        "t = test_encoder.inverse_transform([7,5,3,13])"
      ],
      "metadata": {
        "id": "CZ5ZdyvVIEHa"
      },
      "execution_count": null,
      "outputs": []
    },
    {
      "cell_type": "code",
      "source": [
        "t"
      ],
      "metadata": {
        "colab": {
          "base_uri": "https://localhost:8080/"
        },
        "id": "z6yU_Nh1JFIV",
        "outputId": "2f1877dd-cf28-4a86-e309-e3deee79a61b"
      },
      "execution_count": null,
      "outputs": [
        {
          "output_type": "execute_result",
          "data": {
            "text/plain": [
              "array(['Gurgaon', 'Chennai', 'Ashburn', 'Nelamangala'], dtype=object)"
            ]
          },
          "metadata": {},
          "execution_count": 21
        }
      ]
    },
    {
      "cell_type": "code",
      "source": [
        "t = test_encoder.inverse_transform(y_test[:10])\n",
        "t"
      ],
      "metadata": {
        "colab": {
          "base_uri": "https://localhost:8080/"
        },
        "id": "Sj5X3-i-JF6r",
        "outputId": "5fb19afd-e54a-41d0-9d8c-c47f90ce1015"
      },
      "execution_count": null,
      "outputs": [
        {
          "output_type": "execute_result",
          "data": {
            "text/plain": [
              "array(['Singapore', 'Chennai', 'Mountain View', 'Mountain View', 'Mumbai',\n",
              "       'Singapore', 'Chennai', 'Mumbai', 'Singapore', 'Singapore'],\n",
              "      dtype=object)"
            ]
          },
          "metadata": {},
          "execution_count": 22
        }
      ]
    },
    {
      "cell_type": "markdown",
      "source": [
        "**DECISION TREE MODEL**"
      ],
      "metadata": {
        "id": "pd5Dkcv772g1"
      }
    },
    {
      "cell_type": "code",
      "source": [
        "from sklearn.tree import DecisionTreeClassifier\n",
        "dtc = DecisionTreeClassifier()\n",
        "dtc.fit(X_train, y_train)"
      ],
      "metadata": {
        "colab": {
          "base_uri": "https://localhost:8080/"
        },
        "id": "FG1o0YII75gW",
        "outputId": "34b05758-54fb-46ed-bd78-0db7c2ecca4d"
      },
      "execution_count": null,
      "outputs": [
        {
          "output_type": "execute_result",
          "data": {
            "text/plain": [
              "DecisionTreeClassifier()"
            ]
          },
          "metadata": {},
          "execution_count": 23
        }
      ]
    },
    {
      "cell_type": "code",
      "source": [
        "dtc.score(X_test, y_test)"
      ],
      "metadata": {
        "colab": {
          "base_uri": "https://localhost:8080/"
        },
        "id": "_z_R1BIy8R8V",
        "outputId": "6f770f6c-8a36-48f5-ffb0-54d78f8aef73"
      },
      "execution_count": null,
      "outputs": [
        {
          "output_type": "execute_result",
          "data": {
            "text/plain": [
              "0.9006024096385542"
            ]
          },
          "metadata": {},
          "execution_count": 24
        }
      ]
    },
    {
      "cell_type": "code",
      "source": [
        "import joblib\n",
        "joblib.dump(dtc, \"DTC_model\")"
      ],
      "metadata": {
        "colab": {
          "base_uri": "https://localhost:8080/"
        },
        "id": "onB0r9jultw0",
        "outputId": "93adbebe-03e7-4164-f0fd-a2959c961aaa"
      },
      "execution_count": null,
      "outputs": [
        {
          "output_type": "execute_result",
          "data": {
            "text/plain": [
              "['DTC_model']"
            ]
          },
          "metadata": {},
          "execution_count": 25
        }
      ]
    },
    {
      "cell_type": "markdown",
      "source": [
        "**RANDOM FOREST MODEL**"
      ],
      "metadata": {
        "id": "SlZheHas8y9V"
      }
    },
    {
      "cell_type": "code",
      "source": [
        "from sklearn.ensemble import RandomForestClassifier\n",
        "\n",
        "rfc = RandomForestClassifier()\n",
        "rfc.fit(X_train, y_train)\n"
      ],
      "metadata": {
        "colab": {
          "base_uri": "https://localhost:8080/"
        },
        "id": "FYllJlvx8XsD",
        "outputId": "7c4f74dc-594e-47f7-867a-9384fe3e1930"
      },
      "execution_count": null,
      "outputs": [
        {
          "output_type": "execute_result",
          "data": {
            "text/plain": [
              "RandomForestClassifier()"
            ]
          },
          "metadata": {},
          "execution_count": 26
        }
      ]
    },
    {
      "cell_type": "code",
      "source": [
        "rfc.score(X_test, y_test)"
      ],
      "metadata": {
        "colab": {
          "base_uri": "https://localhost:8080/"
        },
        "id": "Hcyzkolm9dMF",
        "outputId": "094547eb-2b13-4216-adaf-5e608813dcde"
      },
      "execution_count": null,
      "outputs": [
        {
          "output_type": "execute_result",
          "data": {
            "text/plain": [
              "0.9006024096385542"
            ]
          },
          "metadata": {},
          "execution_count": 27
        }
      ]
    },
    {
      "cell_type": "code",
      "source": [
        "predict_inverse(rfc, [le_src_city, le_dest, le_hop_city], 'Nandigāma', 'amazon', 5)"
      ],
      "metadata": {
        "colab": {
          "base_uri": "https://localhost:8080/"
        },
        "id": "P4nqB1EpJ2dO",
        "outputId": "0f3df06b-84ee-4ab7-8e0e-f7666265a992"
      },
      "execution_count": null,
      "outputs": [
        {
          "output_type": "stream",
          "name": "stderr",
          "text": [
            "/usr/local/lib/python3.8/dist-packages/geopy/geocoders/osm.py:132: UserWarning: Using Nominatim with the default \"geopy/1.17.0\" `user_agent` is strongly discouraged, as it violates Nominatim's ToS https://operations.osmfoundation.org/policies/nominatim/ and may possibly cause 403 and 429 HTTP errors. Please specify a custom `user_agent` with `Nominatim(user_agent=\"my-application\")` or by overriding the default `user_agent`: `geopy.geocoders.options.default_user_agent = \"my-application\"`. In geopy 2.0 this will become an exception.\n",
            "  warnings.warn(\n"
          ]
        },
        {
          "output_type": "execute_result",
          "data": {
            "text/plain": [
              "['Ashburn', 39.030019100000004, -77.46964646557657]"
            ]
          },
          "metadata": {},
          "execution_count": 28
        }
      ]
    },
    {
      "cell_type": "code",
      "source": [
        "import joblib\n",
        "joblib.dump(rfc, \"RFC_model\")"
      ],
      "metadata": {
        "colab": {
          "base_uri": "https://localhost:8080/"
        },
        "id": "JHyvLt7ylxuZ",
        "outputId": "d7d6bb5a-3636-4611-a28d-b5359d32550e"
      },
      "execution_count": null,
      "outputs": [
        {
          "output_type": "execute_result",
          "data": {
            "text/plain": [
              "['RFC_model']"
            ]
          },
          "metadata": {},
          "execution_count": 29
        }
      ]
    },
    {
      "cell_type": "markdown",
      "source": [
        "**Neural network**"
      ],
      "metadata": {
        "id": "OxEmY1c8kYh6"
      }
    },
    {
      "cell_type": "code",
      "source": [
        "from sklearn.neural_network import MLPClassifier\n",
        "NN_model = MLPClassifier(max_iter = 2000)\n",
        "NN_model.fit(X_train, y_train)\n",
        "NN_model.score(X_test, y_test)"
      ],
      "metadata": {
        "colab": {
          "base_uri": "https://localhost:8080/"
        },
        "id": "frgWqJcyN1km",
        "outputId": "2c1ea6b0-4302-4291-e181-dbac010ca424"
      },
      "execution_count": null,
      "outputs": [
        {
          "output_type": "execute_result",
          "data": {
            "text/plain": [
              "0.8734939759036144"
            ]
          },
          "metadata": {},
          "execution_count": 30
        }
      ]
    },
    {
      "cell_type": "code",
      "source": [
        "predict_inverse(NN_model, [le_src_city, le_dest, le_hop_city], 'Nandigāma', 'amazon', 5)"
      ],
      "metadata": {
        "colab": {
          "base_uri": "https://localhost:8080/"
        },
        "id": "VSlCSHHHYofU",
        "outputId": "4f8d7cb1-9883-4a52-eb1d-43110899f9fd"
      },
      "execution_count": null,
      "outputs": [
        {
          "output_type": "stream",
          "name": "stderr",
          "text": [
            "/usr/local/lib/python3.8/dist-packages/sklearn/base.py:566: FutureWarning: Arrays of bytes/strings is being converted to decimal numbers if dtype='numeric'. This behavior is deprecated in 0.24 and will be removed in 1.1 (renaming of 0.26). Please convert your data to numeric values explicitly instead.\n",
            "  X = check_array(X, **check_params)\n",
            "/usr/local/lib/python3.8/dist-packages/geopy/geocoders/osm.py:132: UserWarning: Using Nominatim with the default \"geopy/1.17.0\" `user_agent` is strongly discouraged, as it violates Nominatim's ToS https://operations.osmfoundation.org/policies/nominatim/ and may possibly cause 403 and 429 HTTP errors. Please specify a custom `user_agent` with `Nominatim(user_agent=\"my-application\")` or by overriding the default `user_agent`: `geopy.geocoders.options.default_user_agent = \"my-application\"`. In geopy 2.0 this will become an exception.\n",
            "  warnings.warn(\n"
          ]
        },
        {
          "output_type": "execute_result",
          "data": {
            "text/plain": [
              "['Singapore', 1.357107, 103.8194992]"
            ]
          },
          "metadata": {},
          "execution_count": 31
        }
      ]
    },
    {
      "cell_type": "code",
      "source": [
        "import joblib\n",
        "joblib.dump(NN_model, \"NN_model\")"
      ],
      "metadata": {
        "colab": {
          "base_uri": "https://localhost:8080/"
        },
        "id": "C_eu4nsrZX_a",
        "outputId": "0041fe6d-a713-412e-a9a9-833160a1cd59"
      },
      "execution_count": null,
      "outputs": [
        {
          "output_type": "execute_result",
          "data": {
            "text/plain": [
              "['NN_model']"
            ]
          },
          "metadata": {},
          "execution_count": 32
        }
      ]
    },
    {
      "cell_type": "code",
      "source": [
        "X_test[0]"
      ],
      "metadata": {
        "id": "HKGArnZV1agE",
        "outputId": "812539b2-ff3b-41c9-90f2-f6e5b56e0960",
        "colab": {
          "base_uri": "https://localhost:8080/"
        }
      },
      "execution_count": null,
      "outputs": [
        {
          "output_type": "execute_result",
          "data": {
            "text/plain": [
              "array([0, 2, 5], dtype=object)"
            ]
          },
          "metadata": {},
          "execution_count": 33
        }
      ]
    },
    {
      "cell_type": "code",
      "source": [
        "y_test[0]"
      ],
      "metadata": {
        "id": "1KG-Y59Z1cNq",
        "outputId": "24477e81-1ee7-4f45-b990-233ffde7a4bb",
        "colab": {
          "base_uri": "https://localhost:8080/"
        }
      },
      "execution_count": null,
      "outputs": [
        {
          "output_type": "execute_result",
          "data": {
            "text/plain": [
              "18"
            ]
          },
          "metadata": {},
          "execution_count": 34
        }
      ]
    },
    {
      "cell_type": "code",
      "source": [
        "predict_inverse(NN_model, [le_src_city, le_dest, le_hop_city], 'Nandigāma', 'amazon', 6)"
      ],
      "metadata": {
        "id": "vxBmktRq1eJZ",
        "colab": {
          "base_uri": "https://localhost:8080/"
        },
        "outputId": "e118b133-af47-48cc-efff-896e0884d7a7"
      },
      "execution_count": null,
      "outputs": [
        {
          "output_type": "stream",
          "name": "stderr",
          "text": [
            "/usr/local/lib/python3.8/dist-packages/sklearn/base.py:566: FutureWarning: Arrays of bytes/strings is being converted to decimal numbers if dtype='numeric'. This behavior is deprecated in 0.24 and will be removed in 1.1 (renaming of 0.26). Please convert your data to numeric values explicitly instead.\n",
            "  X = check_array(X, **check_params)\n",
            "/usr/local/lib/python3.8/dist-packages/geopy/geocoders/osm.py:132: UserWarning: Using Nominatim with the default \"geopy/1.17.0\" `user_agent` is strongly discouraged, as it violates Nominatim's ToS https://operations.osmfoundation.org/policies/nominatim/ and may possibly cause 403 and 429 HTTP errors. Please specify a custom `user_agent` with `Nominatim(user_agent=\"my-application\")` or by overriding the default `user_agent`: `geopy.geocoders.options.default_user_agent = \"my-application\"`. In geopy 2.0 this will become an exception.\n",
            "  warnings.warn(\n"
          ]
        },
        {
          "output_type": "execute_result",
          "data": {
            "text/plain": [
              "['Singapore', 1.357107, 103.8194992]"
            ]
          },
          "metadata": {},
          "execution_count": 35
        }
      ]
    },
    {
      "cell_type": "markdown",
      "source": [
        "**Statistical Representations**"
      ],
      "metadata": {
        "id": "_1-putt0xhzN"
      }
    },
    {
      "cell_type": "code",
      "source": [
        "import matplotlib.pyplot as plt"
      ],
      "metadata": {
        "id": "UpB7ejpd4Tia"
      },
      "execution_count": null,
      "outputs": []
    },
    {
      "cell_type": "code",
      "source": [
        "from sklearn.metrics import confusion_matrix #Naive Bayes\n",
        "\n",
        "y_predicted = classifier.predict(X_test)\n",
        "cm = confusion_matrix(y_test, y_predicted)\n",
        "\n",
        "import seaborn as sn\n",
        "sn.heatmap(cm, annot=True)\n",
        "plt.xlabel(\"predicted\")\n",
        "plt.ylabel(\"truth\")"
      ],
      "metadata": {
        "colab": {
          "base_uri": "https://localhost:8080/"
        },
        "id": "6Pgouq--3KjG",
        "outputId": "869dfd73-a55e-498a-8ff6-a476bfcda14a"
      },
      "execution_count": null,
      "outputs": [
        {
          "output_type": "execute_result",
          "data": {
            "text/plain": [
              "Text(33.0, 0.5, 'truth')"
            ]
          },
          "metadata": {},
          "execution_count": 37
        },
        {
          "output_type": "display_data",
          "data": {
            "text/plain": [
              "<Figure size 432x288 with 2 Axes>"
            ],
            "image/png": "[encoded data removed]"
          },
          "metadata": {
            "needs_background": "light"
          }
        }
      ]
    },
    {
      "cell_type": "code",
      "source": [
        "from sklearn.metrics import confusion_matrix #Decision Tree\n",
        "\n",
        "y_predicted = dtc.predict(X_test)\n",
        "cm = confusion_matrix(y_test, y_predicted)\n",
        "\n",
        "import seaborn as sn\n",
        "sn.heatmap(cm, annot=True)\n",
        "plt.xlabel(\"predicted\")\n",
        "plt.ylabel(\"truth\")"
      ],
      "metadata": {
        "colab": {
          "base_uri": "https://localhost:8080/"
        },
        "id": "ARbPCOOJ0FJJ",
        "outputId": "56f4c899-ec08-47ae-a071-af3cc9e21200"
      },
      "execution_count": null,
      "outputs": [
        {
          "output_type": "execute_result",
          "data": {
            "text/plain": [
              "Text(33.0, 0.5, 'truth')"
            ]
          },
          "metadata": {},
          "execution_count": 38
        },
        {
          "output_type": "display_data",
          "data": {
            "text/plain": [
              "<Figure size 432x288 with 2 Axes>"
            ],
            "image/png": "[encoded data removed]"
          },
          "metadata": {
            "needs_background": "light"
          }
        }
      ]
    },
    {
      "cell_type": "code",
      "source": [
        "from sklearn.metrics import confusion_matrix #Random forest\n",
        "\n",
        "y_predicted = rfc.predict(X_test)\n",
        "cm = confusion_matrix(y_test, y_predicted)\n",
        "\n",
        "import seaborn as sn\n",
        "sn.heatmap(cm, annot=True)\n",
        "plt.xlabel(\"predicted\")\n",
        "plt.ylabel(\"truth\")"
      ],
      "metadata": {
        "colab": {
          "base_uri": "https://localhost:8080/"
        },
        "id": "UWLAr1lG2555",
        "outputId": "8e8493e6-a9f6-42b3-ecf8-d7df13dd825b"
      },
      "execution_count": null,
      "outputs": [
        {
          "output_type": "execute_result",
          "data": {
            "text/plain": [
              "Text(33.0, 0.5, 'truth')"
            ]
          },
          "metadata": {},
          "execution_count": 39
        },
        {
          "output_type": "display_data",
          "data": {
            "text/plain": [
              "<Figure size 432x288 with 2 Axes>"
            ],
            "image/png": "[encoded data removed]"
          },
          "metadata": {
            "needs_background": "light"
          }
        }
      ]
    },
    {
      "cell_type": "code",
      "source": [
        "from sklearn.metrics import confusion_matrix #Neural Network\n",
        "\n",
        "y_predicted = NN_model.predict(X_test)\n",
        "cm = confusion_matrix(y_test, y_predicted)\n",
        "\n",
        "import seaborn as sn\n",
        "sn.heatmap(cm, annot=True)\n",
        "plt.xlabel(\"predicted\")\n",
        "plt.ylabel(\"truth\")"
      ],
      "metadata": {
        "colab": {
          "base_uri": "https://localhost:8080/"
        },
        "id": "yOJFDeQ_3qT0",
        "outputId": "fc682805-cb24-4011-842a-f3da5553b4f6"
      },
      "execution_count": null,
      "outputs": [
        {
          "output_type": "execute_result",
          "data": {
            "text/plain": [
              "Text(33.0, 0.5, 'truth')"
            ]
          },
          "metadata": {},
          "execution_count": 40
        },
        {
          "output_type": "display_data",
          "data": {
            "text/plain": [
              "<Figure size 432x288 with 2 Axes>"
            ],
            "image/png": "[encoded data removed]"
          },
          "metadata": {
            "needs_background": "light"
          }
        }
      ]
    },
    {
      "cell_type": "code",
      "source": [
        "from sklearn.preprocessing import OneHotEncoder\n",
        "df_c = df[[\"src_city\", \"dest\", \"Hop_No\", \"City\",\"avg_rtt\"]]\n",
        "ohe_src = OneHotEncoder()\n",
        "ohe_city = OneHotEncoder()\n",
        "ohe_dest = OneHotEncoder()\n",
        "df_c"
      ],
      "metadata": {
        "colab": {
          "base_uri": "https://localhost:8080/"
        },
        "id": "58l-5q3B3wQR",
        "outputId": "c007fa6c-dfed-4484-ee25-0a917521681e"
      },
      "execution_count": null,
      "outputs": [
        {
          "output_type": "execute_result",
          "data": {
            "text/plain": [
              "       src_city    dest  Hop_No       City  avg_rtt\n",
              "0     Nandigāma  google       1  Nandigāma        4\n",
              "1     Nandigāma  google       2      Hubli        4\n",
              "2     Nandigāma  google       3  Bengaluru        6\n",
              "3     Nandigāma  google       4    Tanjore       24\n",
              "4     Nandigāma  google       5    Chennai       26\n",
              "...         ...     ...     ...        ...      ...\n",
              "1652      Delhi  amazon       2    Gurgaon       18\n",
              "1653      Delhi  amazon       3  Hyderābād       33\n",
              "1654      Delhi  amazon       4     Mumbai       48\n",
              "1655      Delhi  amazon       5     Mumbai      100\n",
              "1656      Delhi  amazon       6     Mumbai       27\n",
              "\n",
              "[1657 rows x 5 columns]"
            ],
            "text/html": [
              "\n",
              "  <div id=\"df-73b01bec-5bf6-45c8-9a4a-86d0cec28dcd\">\n",
              "    <div class=\"colab-df-container\">\n",
              "      <div>\n",
              "<style scoped>\n",
              "    .dataframe tbody tr th:only-of-type {\n",
              "        vertical-align: middle;\n",
              "    }\n",
              "\n",
              "    .dataframe tbody tr th {\n",
              "        vertical-align: top;\n",
              "    }\n",
              "\n",
              "    .dataframe thead th {\n",
              "        text-align: right;\n",
              "    }\n",
              "</style>\n",
              "<table border=\"1\" class=\"dataframe\">\n",
              "  <thead>\n",
              "    <tr style=\"text-align: right;\">\n",
              "      <th></th>\n",
              "      <th>src_city</th>\n",
              "      <th>dest</th>\n",
              "      <th>Hop_No</th>\n",
              "      <th>City</th>\n",
              "      <th>avg_rtt</th>\n",
              "    </tr>\n",
              "  </thead>\n",
              "  <tbody>\n",
              "    <tr>\n",
              "      <th>0</th>\n",
              "      <td>Nandigāma</td>\n",
              "      <td>google</td>\n",
              "      <td>1</td>\n",
              "      <td>Nandigāma</td>\n",
              "      <td>4</td>\n",
              "    </tr>\n",
              "    <tr>\n",
              "      <th>1</th>\n",
              "      <td>Nandigāma</td>\n",
              "      <td>google</td>\n",
              "      <td>2</td>\n",
              "      <td>Hubli</td>\n",
              "      <td>4</td>\n",
              "    </tr>\n",
              "    <tr>\n",
              "      <th>2</th>\n",
              "      <td>Nandigāma</td>\n",
              "      <td>google</td>\n",
              "      <td>3</td>\n",
              "      <td>Bengaluru</td>\n",
              "      <td>6</td>\n",
              "    </tr>\n",
              "    <tr>\n",
              "      <th>3</th>\n",
              "      <td>Nandigāma</td>\n",
              "      <td>google</td>\n",
              "      <td>4</td>\n",
              "      <td>Tanjore</td>\n",
              "      <td>24</td>\n",
              "    </tr>\n",
              "    <tr>\n",
              "      <th>4</th>\n",
              "      <td>Nandigāma</td>\n",
              "      <td>google</td>\n",
              "      <td>5</td>\n",
              "      <td>Chennai</td>\n",
              "      <td>26</td>\n",
              "    </tr>\n",
              "    <tr>\n",
              "      <th>...</th>\n",
              "      <td>...</td>\n",
              "      <td>...</td>\n",
              "      <td>...</td>\n",
              "      <td>...</td>\n",
              "      <td>...</td>\n",
              "    </tr>\n",
              "    <tr>\n",
              "      <th>1652</th>\n",
              "      <td>Delhi</td>\n",
              "      <td>amazon</td>\n",
              "      <td>2</td>\n",
              "      <td>Gurgaon</td>\n",
              "      <td>18</td>\n",
              "    </tr>\n",
              "    <tr>\n",
              "      <th>1653</th>\n",
              "      <td>Delhi</td>\n",
              "      <td>amazon</td>\n",
              "      <td>3</td>\n",
              "      <td>Hyderābād</td>\n",
              "      <td>33</td>\n",
              "    </tr>\n",
              "    <tr>\n",
              "      <th>1654</th>\n",
              "      <td>Delhi</td>\n",
              "      <td>amazon</td>\n",
              "      <td>4</td>\n",
              "      <td>Mumbai</td>\n",
              "      <td>48</td>\n",
              "    </tr>\n",
              "    <tr>\n",
              "      <th>1655</th>\n",
              "      <td>Delhi</td>\n",
              "      <td>amazon</td>\n",
              "      <td>5</td>\n",
              "      <td>Mumbai</td>\n",
              "      <td>100</td>\n",
              "    </tr>\n",
              "    <tr>\n",
              "      <th>1656</th>\n",
              "      <td>Delhi</td>\n",
              "      <td>amazon</td>\n",
              "      <td>6</td>\n",
              "      <td>Mumbai</td>\n",
              "      <td>27</td>\n",
              "    </tr>\n",
              "  </tbody>\n",
              "</table>\n",
              "<p>1657 rows × 5 columns</p>\n",
              "</div>\n",
              "      <button class=\"colab-df-convert\" onclick=\"convertToInteractive('df-73b01bec-5bf6-45c8-9a4a-86d0cec28dcd')\"\n",
              "              title=\"Convert this dataframe to an interactive table.\"\n",
              "              style=\"display:none;\">\n",
              "        \n",
              "  <svg xmlns=\"http://www.w3.org/2000/svg\" height=\"24px\"viewBox=\"0 0 24 24\"\n",
              "       width=\"24px\">\n",
              "    <path d=\"M0 0h24v24H0V0z\" fill=\"none\"/>\n",
              "    <path d=\"M18.56 5.44l.94 2.06.94-2.06 2.06-.94-2.06-.94-.94-2.06-.94 2.06-2.06.94zm-11 1L8.5 8.5l.94-2.06 2.06-.94-2.06-.94L8.5 2.5l-.94 2.06-2.06.94zm10 10l.94 2.06.94-2.06 2.06-.94-2.06-.94-.94-2.06-.94 2.06-2.06.94z\"/><path d=\"M17.41 7.96l-1.37-1.37c-.4-.4-.92-.59-1.43-.59-.52 0-1.04.2-1.43.59L10.3 9.45l-7.72 7.72c-.78.78-.78 2.05 0 2.83L4 21.41c.39.39.9.59 1.41.59.51 0 1.02-.2 1.41-.59l7.78-7.78 2.81-2.81c.8-.78.8-2.07 0-2.86zM5.41 20L4 18.59l7.72-7.72 1.47 1.35L5.41 20z\"/>\n",
              "  </svg>\n",
              "      </button>\n",
              "      \n",
              "  <style>\n",
              "    .colab-df-container {\n",
              "      display:flex;\n",
              "      flex-wrap:wrap;\n",
              "      gap: 12px;\n",
              "    }\n",
              "\n",
              "    .colab-df-convert {\n",
              "      background-color: #E8F0FE;\n",
              "      border: none;\n",
              "      border-radius: 50%;\n",
              "      cursor: pointer;\n",
              "      display: none;\n",
              "      fill: #1967D2;\n",
              "      height: 32px;\n",
              "      padding: 0 0 0 0;\n",
              "      width: 32px;\n",
              "    }\n",
              "\n",
              "    .colab-df-convert:hover {\n",
              "      background-color: #E2EBFA;\n",
              "      box-shadow: 0px 1px 2px rgba(60, 64, 67, 0.3), 0px 1px 3px 1px rgba(60, 64, 67, 0.15);\n",
              "      fill: #174EA6;\n",
              "    }\n",
              "\n",
              "    [theme=dark] .colab-df-convert {\n",
              "      background-color: #3B4455;\n",
              "      fill: #D2E3FC;\n",
              "    }\n",
              "\n",
              "    [theme=dark] .colab-df-convert:hover {\n",
              "      background-color: #434B5C;\n",
              "      box-shadow: 0px 1px 3px 1px rgba(0, 0, 0, 0.15);\n",
              "      filter: drop-shadow(0px 1px 2px rgba(0, 0, 0, 0.3));\n",
              "      fill: #FFFFFF;\n",
              "    }\n",
              "  </style>\n",
              "\n",
              "      <script>\n",
              "        const buttonEl =\n",
              "          document.querySelector('#df-73b01bec-5bf6-45c8-9a4a-86d0cec28dcd button.colab-df-convert');\n",
              "        buttonEl.style.display =\n",
              "          google.colab.kernel.accessAllowed ? 'block' : 'none';\n",
              "\n",
              "        async function convertToInteractive(key) {\n",
              "          const element = document.querySelector('#df-73b01bec-5bf6-45c8-9a4a-86d0cec28dcd');\n",
              "          const dataTable =\n",
              "            await google.colab.kernel.invokeFunction('convertToInteractive',\n",
              "                                                     [key], {});\n",
              "          if (!dataTable) return;\n",
              "\n",
              "          const docLinkHtml = 'Like what you see? Visit the ' +\n",
              "            '<a target=\"_blank\" href=https://colab.research.google.com/notebooks/data_table.ipynb>data table notebook</a>'\n",
              "            + ' to learn more about interactive tables.';\n",
              "          element.innerHTML = '';\n",
              "          dataTable['output_type'] = 'display_data';\n",
              "          await google.colab.output.renderOutput(dataTable, element);\n",
              "          const docLink = document.createElement('div');\n",
              "          docLink.innerHTML = docLinkHtml;\n",
              "          element.appendChild(docLink);\n",
              "        }\n",
              "      </script>\n",
              "    </div>\n",
              "  </div>\n",
              "  "
            ]
          },
          "metadata": {},
          "execution_count": 41
        }
      ]
    },
    {
      "cell_type": "code",
      "source": [
        "X = df_c.values[:, 0:4]\n",
        "X"
      ],
      "metadata": {
        "colab": {
          "base_uri": "https://localhost:8080/"
        },
        "id": "uWSP8LSK44aJ",
        "outputId": "09b64de9-a9fd-4438-a8ff-bdbe2afe8e92"
      },
      "execution_count": null,
      "outputs": [
        {
          "output_type": "execute_result",
          "data": {
            "text/plain": [
              "array([['Nandigāma', 'google', 1, 'Nandigāma'],\n",
              "       ['Nandigāma', 'google', 2, 'Hubli'],\n",
              "       ['Nandigāma', 'google', 3, 'Bengaluru'],\n",
              "       ...,\n",
              "       ['Delhi', 'amazon', 4, 'Mumbai'],\n",
              "       ['Delhi', 'amazon', 5, 'Mumbai'],\n",
              "       ['Delhi', 'amazon', 6, 'Mumbai']], dtype=object)"
            ]
          },
          "metadata": {},
          "execution_count": 42
        }
      ]
    },
    {
      "cell_type": "code",
      "source": [
        "Y = df_c[\"avg_rtt\"].values\n",
        "Y"
      ],
      "metadata": {
        "colab": {
          "base_uri": "https://localhost:8080/"
        },
        "id": "BR_KCk-K5vWf",
        "outputId": "2d8396db-bed3-4bc7-f66c-a3365775f8c8"
      },
      "execution_count": null,
      "outputs": [
        {
          "output_type": "execute_result",
          "data": {
            "text/plain": [
              "array([  4,   4,   6, ...,  48, 100,  27])"
            ]
          },
          "metadata": {},
          "execution_count": 43
        }
      ]
    },
    {
      "cell_type": "code",
      "source": [
        "df_c"
      ],
      "metadata": {
        "colab": {
          "base_uri": "https://localhost:8080/"
        },
        "id": "Okx4dVCA5wSl",
        "outputId": "c901017a-f36a-4d6e-a883-e8dba8d4411d"
      },
      "execution_count": null,
      "outputs": [
        {
          "output_type": "execute_result",
          "data": {
            "text/plain": [
              "       src_city    dest  Hop_No       City  avg_rtt\n",
              "0     Nandigāma  google       1  Nandigāma        4\n",
              "1     Nandigāma  google       2      Hubli        4\n",
              "2     Nandigāma  google       3  Bengaluru        6\n",
              "3     Nandigāma  google       4    Tanjore       24\n",
              "4     Nandigāma  google       5    Chennai       26\n",
              "...         ...     ...     ...        ...      ...\n",
              "1652      Delhi  amazon       2    Gurgaon       18\n",
              "1653      Delhi  amazon       3  Hyderābād       33\n",
              "1654      Delhi  amazon       4     Mumbai       48\n",
              "1655      Delhi  amazon       5     Mumbai      100\n",
              "1656      Delhi  amazon       6     Mumbai       27\n",
              "\n",
              "[1657 rows x 5 columns]"
            ],
            "text/html": [
              "\n",
              "  <div id=\"df-c47b0288-d875-4d21-bf89-54cb193e5be6\">\n",
              "    <div class=\"colab-df-container\">\n",
              "      <div>\n",
              "<style scoped>\n",
              "    .dataframe tbody tr th:only-of-type {\n",
              "        vertical-align: middle;\n",
              "    }\n",
              "\n",
              "    .dataframe tbody tr th {\n",
              "        vertical-align: top;\n",
              "    }\n",
              "\n",
              "    .dataframe thead th {\n",
              "        text-align: right;\n",
              "    }\n",
              "</style>\n",
              "<table border=\"1\" class=\"dataframe\">\n",
              "  <thead>\n",
              "    <tr style=\"text-align: right;\">\n",
              "      <th></th>\n",
              "      <th>src_city</th>\n",
              "      <th>dest</th>\n",
              "      <th>Hop_No</th>\n",
              "      <th>City</th>\n",
              "      <th>avg_rtt</th>\n",
              "    </tr>\n",
              "  </thead>\n",
              "  <tbody>\n",
              "    <tr>\n",
              "      <th>0</th>\n",
              "      <td>Nandigāma</td>\n",
              "      <td>google</td>\n",
              "      <td>1</td>\n",
              "      <td>Nandigāma</td>\n",
              "      <td>4</td>\n",
              "    </tr>\n",
              "    <tr>\n",
              "      <th>1</th>\n",
              "      <td>Nandigāma</td>\n",
              "      <td>google</td>\n",
              "      <td>2</td>\n",
              "      <td>Hubli</td>\n",
              "      <td>4</td>\n",
              "    </tr>\n",
              "    <tr>\n",
              "      <th>2</th>\n",
              "      <td>Nandigāma</td>\n",
              "      <td>google</td>\n",
              "      <td>3</td>\n",
              "      <td>Bengaluru</td>\n",
              "      <td>6</td>\n",
              "    </tr>\n",
              "    <tr>\n",
              "      <th>3</th>\n",
              "      <td>Nandigāma</td>\n",
              "      <td>google</td>\n",
              "      <td>4</td>\n",
              "      <td>Tanjore</td>\n",
              "      <td>24</td>\n",
              "    </tr>\n",
              "    <tr>\n",
              "      <th>4</th>\n",
              "      <td>Nandigāma</td>\n",
              "      <td>google</td>\n",
              "      <td>5</td>\n",
              "      <td>Chennai</td>\n",
              "      <td>26</td>\n",
              "    </tr>\n",
              "    <tr>\n",
              "      <th>...</th>\n",
              "      <td>...</td>\n",
              "      <td>...</td>\n",
              "      <td>...</td>\n",
              "      <td>...</td>\n",
              "      <td>...</td>\n",
              "    </tr>\n",
              "    <tr>\n",
              "      <th>1652</th>\n",
              "      <td>Delhi</td>\n",
              "      <td>amazon</td>\n",
              "      <td>2</td>\n",
              "      <td>Gurgaon</td>\n",
              "      <td>18</td>\n",
              "    </tr>\n",
              "    <tr>\n",
              "      <th>1653</th>\n",
              "      <td>Delhi</td>\n",
              "      <td>amazon</td>\n",
              "      <td>3</td>\n",
              "      <td>Hyderābād</td>\n",
              "      <td>33</td>\n",
              "    </tr>\n",
              "    <tr>\n",
              "      <th>1654</th>\n",
              "      <td>Delhi</td>\n",
              "      <td>amazon</td>\n",
              "      <td>4</td>\n",
              "      <td>Mumbai</td>\n",
              "      <td>48</td>\n",
              "    </tr>\n",
              "    <tr>\n",
              "      <th>1655</th>\n",
              "      <td>Delhi</td>\n",
              "      <td>amazon</td>\n",
              "      <td>5</td>\n",
              "      <td>Mumbai</td>\n",
              "      <td>100</td>\n",
              "    </tr>\n",
              "    <tr>\n",
              "      <th>1656</th>\n",
              "      <td>Delhi</td>\n",
              "      <td>amazon</td>\n",
              "      <td>6</td>\n",
              "      <td>Mumbai</td>\n",
              "      <td>27</td>\n",
              "    </tr>\n",
              "  </tbody>\n",
              "</table>\n",
              "<p>1657 rows × 5 columns</p>\n",
              "</div>\n",
              "      <button class=\"colab-df-convert\" onclick=\"convertToInteractive('df-c47b0288-d875-4d21-bf89-54cb193e5be6')\"\n",
              "              title=\"Convert this dataframe to an interactive table.\"\n",
              "              style=\"display:none;\">\n",
              "        \n",
              "  <svg xmlns=\"http://www.w3.org/2000/svg\" height=\"24px\"viewBox=\"0 0 24 24\"\n",
              "       width=\"24px\">\n",
              "    <path d=\"M0 0h24v24H0V0z\" fill=\"none\"/>\n",
              "    <path d=\"M18.56 5.44l.94 2.06.94-2.06 2.06-.94-2.06-.94-.94-2.06-.94 2.06-2.06.94zm-11 1L8.5 8.5l.94-2.06 2.06-.94-2.06-.94L8.5 2.5l-.94 2.06-2.06.94zm10 10l.94 2.06.94-2.06 2.06-.94-2.06-.94-.94-2.06-.94 2.06-2.06.94z\"/><path d=\"M17.41 7.96l-1.37-1.37c-.4-.4-.92-.59-1.43-.59-.52 0-1.04.2-1.43.59L10.3 9.45l-7.72 7.72c-.78.78-.78 2.05 0 2.83L4 21.41c.39.39.9.59 1.41.59.51 0 1.02-.2 1.41-.59l7.78-7.78 2.81-2.81c.8-.78.8-2.07 0-2.86zM5.41 20L4 18.59l7.72-7.72 1.47 1.35L5.41 20z\"/>\n",
              "  </svg>\n",
              "      </button>\n",
              "      \n",
              "  <style>\n",
              "    .colab-df-container {\n",
              "      display:flex;\n",
              "      flex-wrap:wrap;\n",
              "      gap: 12px;\n",
              "    }\n",
              "\n",
              "    .colab-df-convert {\n",
              "      background-color: #E8F0FE;\n",
              "      border: none;\n",
              "      border-radius: 50%;\n",
              "      cursor: pointer;\n",
              "      display: none;\n",
              "      fill: #1967D2;\n",
              "      height: 32px;\n",
              "      padding: 0 0 0 0;\n",
              "      width: 32px;\n",
              "    }\n",
              "\n",
              "    .colab-df-convert:hover {\n",
              "      background-color: #E2EBFA;\n",
              "      box-shadow: 0px 1px 2px rgba(60, 64, 67, 0.3), 0px 1px 3px 1px rgba(60, 64, 67, 0.15);\n",
              "      fill: #174EA6;\n",
              "    }\n",
              "\n",
              "    [theme=dark] .colab-df-convert {\n",
              "      background-color: #3B4455;\n",
              "      fill: #D2E3FC;\n",
              "    }\n",
              "\n",
              "    [theme=dark] .colab-df-convert:hover {\n",
              "      background-color: #434B5C;\n",
              "      box-shadow: 0px 1px 3px 1px rgba(0, 0, 0, 0.15);\n",
              "      filter: drop-shadow(0px 1px 2px rgba(0, 0, 0, 0.3));\n",
              "      fill: #FFFFFF;\n",
              "    }\n",
              "  </style>\n",
              "\n",
              "      <script>\n",
              "        const buttonEl =\n",
              "          document.querySelector('#df-c47b0288-d875-4d21-bf89-54cb193e5be6 button.colab-df-convert');\n",
              "        buttonEl.style.display =\n",
              "          google.colab.kernel.accessAllowed ? 'block' : 'none';\n",
              "\n",
              "        async function convertToInteractive(key) {\n",
              "          const element = document.querySelector('#df-c47b0288-d875-4d21-bf89-54cb193e5be6');\n",
              "          const dataTable =\n",
              "            await google.colab.kernel.invokeFunction('convertToInteractive',\n",
              "                                                     [key], {});\n",
              "          if (!dataTable) return;\n",
              "\n",
              "          const docLinkHtml = 'Like what you see? Visit the ' +\n",
              "            '<a target=\"_blank\" href=https://colab.research.google.com/notebooks/data_table.ipynb>data table notebook</a>'\n",
              "            + ' to learn more about interactive tables.';\n",
              "          element.innerHTML = '';\n",
              "          dataTable['output_type'] = 'display_data';\n",
              "          await google.colab.output.renderOutput(dataTable, element);\n",
              "          const docLink = document.createElement('div');\n",
              "          docLink.innerHTML = docLinkHtml;\n",
              "          element.appendChild(docLink);\n",
              "        }\n",
              "      </script>\n",
              "    </div>\n",
              "  </div>\n",
              "  "
            ]
          },
          "metadata": {},
          "execution_count": 44
        }
      ]
    },
    {
      "cell_type": "code",
      "source": [
        "from sklearn.compose import ColumnTransformer\n",
        "\n",
        "ct = ColumnTransformer(\n",
        "    [(\n",
        "        \"City\",\n",
        "        OneHotEncoder(),\n",
        "        [0]\n",
        "      )],\n",
        "    remainder=\"passthrough\"\n",
        ")\n",
        "\n",
        "X_city = ct.fit_transform(df_c[[\"City\"]]).toarray()\n",
        "X_city\n"
      ],
      "metadata": {
        "colab": {
          "base_uri": "https://localhost:8080/"
        },
        "id": "2XIo8wImBIyB",
        "outputId": "f6cb259c-0f56-4ae8-db8f-94f9d498da52"
      },
      "execution_count": null,
      "outputs": [
        {
          "output_type": "execute_result",
          "data": {
            "text/plain": [
              "array([[0., 0., 0., ..., 0., 0., 0.],\n",
              "       [0., 0., 0., ..., 0., 0., 0.],\n",
              "       [0., 0., 0., ..., 0., 0., 0.],\n",
              "       ...,\n",
              "       [0., 0., 0., ..., 0., 0., 0.],\n",
              "       [0., 0., 0., ..., 0., 0., 0.],\n",
              "       [0., 0., 0., ..., 0., 0., 0.]])"
            ]
          },
          "metadata": {},
          "execution_count": 45
        }
      ]
    },
    {
      "cell_type": "code",
      "source": [
        "st = ColumnTransformer(\n",
        "    [(\n",
        "        \"src_city\",\n",
        "        OneHotEncoder(),\n",
        "        [0]\n",
        "      )],\n",
        "    remainder=\"passthrough\"\n",
        ")\n",
        "\n",
        "X_src = st.fit_transform(df_c[[\"src_city\"]])\n",
        "X_src"
      ],
      "metadata": {
        "colab": {
          "base_uri": "https://localhost:8080/"
        },
        "id": "jp-TSzIjCfc0",
        "outputId": "c683ec01-9ee6-4fb0-a58a-e34327c3e106"
      },
      "execution_count": null,
      "outputs": [
        {
          "output_type": "execute_result",
          "data": {
            "text/plain": [
              "array([[0., 1.],\n",
              "       [0., 1.],\n",
              "       [0., 1.],\n",
              "       ...,\n",
              "       [1., 0.],\n",
              "       [1., 0.],\n",
              "       [1., 0.]])"
            ]
          },
          "metadata": {},
          "execution_count": 46
        }
      ]
    },
    {
      "cell_type": "code",
      "source": [
        "dt = ColumnTransformer(\n",
        "    [(\n",
        "        \"dest\",\n",
        "        OneHotEncoder(),\n",
        "        [0]\n",
        "      )],\n",
        "    remainder=\"passthrough\"\n",
        ")\n",
        "\n",
        "X_dest = dt.fit_transform(df_c[[\"dest\"]])\n",
        "X_dest"
      ],
      "metadata": {
        "colab": {
          "base_uri": "https://localhost:8080/"
        },
        "id": "XbxINlIsFcBk",
        "outputId": "63a19cd6-d69a-473a-f362-73cbedd6bf0c"
      },
      "execution_count": null,
      "outputs": [
        {
          "output_type": "execute_result",
          "data": {
            "text/plain": [
              "array([[0., 1., 0.],\n",
              "       [0., 1., 0.],\n",
              "       [0., 1., 0.],\n",
              "       ...,\n",
              "       [1., 0., 0.],\n",
              "       [1., 0., 0.],\n",
              "       [1., 0., 0.]])"
            ]
          },
          "metadata": {},
          "execution_count": 47
        }
      ]
    },
    {
      "cell_type": "code",
      "source": [
        "h_n = np.reshape(df_c[\"Hop_No\"].values, (-1, 1))\n",
        "\n",
        "X = np.concatenate((X_src, X_dest, X_city, h_n), axis=1)\n",
        "X"
      ],
      "metadata": {
        "colab": {
          "base_uri": "https://localhost:8080/"
        },
        "id": "ljDv8tAWFh0u",
        "outputId": "ee4f9646-c795-4e8f-9385-d42493ccea36"
      },
      "execution_count": null,
      "outputs": [
        {
          "output_type": "execute_result",
          "data": {
            "text/plain": [
              "array([[0., 1., 0., ..., 0., 0., 1.],\n",
              "       [0., 1., 0., ..., 0., 0., 2.],\n",
              "       [0., 1., 0., ..., 0., 0., 3.],\n",
              "       ...,\n",
              "       [1., 0., 1., ..., 0., 0., 4.],\n",
              "       [1., 0., 1., ..., 0., 0., 5.],\n",
              "       [1., 0., 1., ..., 0., 0., 6.]])"
            ]
          },
          "metadata": {},
          "execution_count": 48
        }
      ]
    },
    {
      "cell_type": "code",
      "source": [
        "Y = df_c[\"avg_rtt\"].values\n",
        "Y"
      ],
      "metadata": {
        "colab": {
          "base_uri": "https://localhost:8080/"
        },
        "id": "YI8QpPJlGGyu",
        "outputId": "edcb2849-659a-4cd8-85e6-c9519226ae19"
      },
      "execution_count": null,
      "outputs": [
        {
          "output_type": "execute_result",
          "data": {
            "text/plain": [
              "array([  4,   4,   6, ...,  48, 100,  27])"
            ]
          },
          "metadata": {},
          "execution_count": 49
        }
      ]
    },
    {
      "cell_type": "code",
      "source": [
        "X_train, X_test, y_train, y_test = train_test_split(X, y, test_size=0.2)\n",
        "\n",
        "import xgboost\n",
        "\n",
        "xgb_r = xgboost.XGBRegressor(objective ='reg:linear')\n",
        "xgb_r.fit(X_train, y_train)\n",
        "xgb_r.score(X_test, y_test)"
      ],
      "metadata": {
        "colab": {
          "base_uri": "https://localhost:8080/"
        },
        "id": "KsVCKJN3hGpz",
        "outputId": "7167a8e3-73a4-4bcb-c42f-f44feb8106e9"
      },
      "execution_count": null,
      "outputs": [
        {
          "output_type": "stream",
          "name": "stdout",
          "text": [
            "[09:39:41] WARNING: /workspace/src/objective/regression_obj.cu:152: reg:linear is now deprecated in favor of reg:squarederror.\n"
          ]
        },
        {
          "output_type": "execute_result",
          "data": {
            "text/plain": [
              "0.9934444061295746"
            ]
          },
          "metadata": {},
          "execution_count": 50
        }
      ]
    },
    {
      "cell_type": "markdown",
      "source": [
        "**ignore for now**"
      ],
      "metadata": {
        "id": "d9hOsvu87l4r"
      }
    },
    {
      "cell_type": "code",
      "source": [
        "df_plot = df_c.copy()[(df_c[\"src_city\"]==\"Delhi\") & (df_c[\"dest\"]==\"google\")]\n",
        "df_plot"
      ],
      "metadata": {
        "colab": {
          "base_uri": "https://localhost:8080/"
        },
        "id": "qpJnCUlVi4FI",
        "outputId": "245749b2-c53e-42ed-925d-7c59ad78215a"
      },
      "execution_count": null,
      "outputs": [
        {
          "output_type": "execute_result",
          "data": {
            "text/plain": [
              "    src_city    dest  Hop_No       City  avg_rtt\n",
              "633    Delhi  google       1      Delhi        9\n",
              "634    Delhi  google       2    Gurgaon        9\n",
              "635    Delhi  google       3    Chennai       17\n",
              "636    Delhi  google       4  Singapore       15\n",
              "637    Delhi  google       5    Chennai       15\n",
              "..       ...     ...     ...        ...      ...\n",
              "956    Delhi  google       3    Rānipet       15\n",
              "957    Delhi  google       4    Chennai       17\n",
              "958    Delhi  google       5    Chennai       19\n",
              "959    Delhi  google       6    Chennai       15\n",
              "960    Delhi  google       7    Chennai       15\n",
              "\n",
              "[328 rows x 5 columns]"
            ],
            "text/html": [
              "\n",
              "  <div id=\"df-e29739fd-25bf-49f9-9798-87391a0b3246\">\n",
              "    <div class=\"colab-df-container\">\n",
              "      <div>\n",
              "<style scoped>\n",
              "    .dataframe tbody tr th:only-of-type {\n",
              "        vertical-align: middle;\n",
              "    }\n",
              "\n",
              "    .dataframe tbody tr th {\n",
              "        vertical-align: top;\n",
              "    }\n",
              "\n",
              "    .dataframe thead th {\n",
              "        text-align: right;\n",
              "    }\n",
              "</style>\n",
              "<table border=\"1\" class=\"dataframe\">\n",
              "  <thead>\n",
              "    <tr style=\"text-align: right;\">\n",
              "      <th></th>\n",
              "      <th>src_city</th>\n",
              "      <th>dest</th>\n",
              "      <th>Hop_No</th>\n",
              "      <th>City</th>\n",
              "      <th>avg_rtt</th>\n",
              "    </tr>\n",
              "  </thead>\n",
              "  <tbody>\n",
              "    <tr>\n",
              "      <th>633</th>\n",
              "      <td>Delhi</td>\n",
              "      <td>google</td>\n",
              "      <td>1</td>\n",
              "      <td>Delhi</td>\n",
              "      <td>9</td>\n",
              "    </tr>\n",
              "    <tr>\n",
              "      <th>634</th>\n",
              "      <td>Delhi</td>\n",
              "      <td>google</td>\n",
              "      <td>2</td>\n",
              "      <td>Gurgaon</td>\n",
              "      <td>9</td>\n",
              "    </tr>\n",
              "    <tr>\n",
              "      <th>635</th>\n",
              "      <td>Delhi</td>\n",
              "      <td>google</td>\n",
              "      <td>3</td>\n",
              "      <td>Chennai</td>\n",
              "      <td>17</td>\n",
              "    </tr>\n",
              "    <tr>\n",
              "      <th>636</th>\n",
              "      <td>Delhi</td>\n",
              "      <td>google</td>\n",
              "      <td>4</td>\n",
              "      <td>Singapore</td>\n",
              "      <td>15</td>\n",
              "    </tr>\n",
              "    <tr>\n",
              "      <th>637</th>\n",
              "      <td>Delhi</td>\n",
              "      <td>google</td>\n",
              "      <td>5</td>\n",
              "      <td>Chennai</td>\n",
              "      <td>15</td>\n",
              "    </tr>\n",
              "    <tr>\n",
              "      <th>...</th>\n",
              "      <td>...</td>\n",
              "      <td>...</td>\n",
              "      <td>...</td>\n",
              "      <td>...</td>\n",
              "      <td>...</td>\n",
              "    </tr>\n",
              "    <tr>\n",
              "      <th>956</th>\n",
              "      <td>Delhi</td>\n",
              "      <td>google</td>\n",
              "      <td>3</td>\n",
              "      <td>Rānipet</td>\n",
              "      <td>15</td>\n",
              "    </tr>\n",
              "    <tr>\n",
              "      <th>957</th>\n",
              "      <td>Delhi</td>\n",
              "      <td>google</td>\n",
              "      <td>4</td>\n",
              "      <td>Chennai</td>\n",
              "      <td>17</td>\n",
              "    </tr>\n",
              "    <tr>\n",
              "      <th>958</th>\n",
              "      <td>Delhi</td>\n",
              "      <td>google</td>\n",
              "      <td>5</td>\n",
              "      <td>Chennai</td>\n",
              "      <td>19</td>\n",
              "    </tr>\n",
              "    <tr>\n",
              "      <th>959</th>\n",
              "      <td>Delhi</td>\n",
              "      <td>google</td>\n",
              "      <td>6</td>\n",
              "      <td>Chennai</td>\n",
              "      <td>15</td>\n",
              "    </tr>\n",
              "    <tr>\n",
              "      <th>960</th>\n",
              "      <td>Delhi</td>\n",
              "      <td>google</td>\n",
              "      <td>7</td>\n",
              "      <td>Chennai</td>\n",
              "      <td>15</td>\n",
              "    </tr>\n",
              "  </tbody>\n",
              "</table>\n",
              "<p>328 rows × 5 columns</p>\n",
              "</div>\n",
              "      <button class=\"colab-df-convert\" onclick=\"convertToInteractive('df-e29739fd-25bf-49f9-9798-87391a0b3246')\"\n",
              "              title=\"Convert this dataframe to an interactive table.\"\n",
              "              style=\"display:none;\">\n",
              "        \n",
              "  <svg xmlns=\"http://www.w3.org/2000/svg\" height=\"24px\"viewBox=\"0 0 24 24\"\n",
              "       width=\"24px\">\n",
              "    <path d=\"M0 0h24v24H0V0z\" fill=\"none\"/>\n",
              "    <path d=\"M18.56 5.44l.94 2.06.94-2.06 2.06-.94-2.06-.94-.94-2.06-.94 2.06-2.06.94zm-11 1L8.5 8.5l.94-2.06 2.06-.94-2.06-.94L8.5 2.5l-.94 2.06-2.06.94zm10 10l.94 2.06.94-2.06 2.06-.94-2.06-.94-.94-2.06-.94 2.06-2.06.94z\"/><path d=\"M17.41 7.96l-1.37-1.37c-.4-.4-.92-.59-1.43-.59-.52 0-1.04.2-1.43.59L10.3 9.45l-7.72 7.72c-.78.78-.78 2.05 0 2.83L4 21.41c.39.39.9.59 1.41.59.51 0 1.02-.2 1.41-.59l7.78-7.78 2.81-2.81c.8-.78.8-2.07 0-2.86zM5.41 20L4 18.59l7.72-7.72 1.47 1.35L5.41 20z\"/>\n",
              "  </svg>\n",
              "      </button>\n",
              "      \n",
              "  <style>\n",
              "    .colab-df-container {\n",
              "      display:flex;\n",
              "      flex-wrap:wrap;\n",
              "      gap: 12px;\n",
              "    }\n",
              "\n",
              "    .colab-df-convert {\n",
              "      background-color: #E8F0FE;\n",
              "      border: none;\n",
              "      border-radius: 50%;\n",
              "      cursor: pointer;\n",
              "      display: none;\n",
              "      fill: #1967D2;\n",
              "      height: 32px;\n",
              "      padding: 0 0 0 0;\n",
              "      width: 32px;\n",
              "    }\n",
              "\n",
              "    .colab-df-convert:hover {\n",
              "      background-color: #E2EBFA;\n",
              "      box-shadow: 0px 1px 2px rgba(60, 64, 67, 0.3), 0px 1px 3px 1px rgba(60, 64, 67, 0.15);\n",
              "      fill: #174EA6;\n",
              "    }\n",
              "\n",
              "    [theme=dark] .colab-df-convert {\n",
              "      background-color: #3B4455;\n",
              "      fill: #D2E3FC;\n",
              "    }\n",
              "\n",
              "    [theme=dark] .colab-df-convert:hover {\n",
              "      background-color: #434B5C;\n",
              "      box-shadow: 0px 1px 3px 1px rgba(0, 0, 0, 0.15);\n",
              "      filter: drop-shadow(0px 1px 2px rgba(0, 0, 0, 0.3));\n",
              "      fill: #FFFFFF;\n",
              "    }\n",
              "  </style>\n",
              "\n",
              "      <script>\n",
              "        const buttonEl =\n",
              "          document.querySelector('#df-e29739fd-25bf-49f9-9798-87391a0b3246 button.colab-df-convert');\n",
              "        buttonEl.style.display =\n",
              "          google.colab.kernel.accessAllowed ? 'block' : 'none';\n",
              "\n",
              "        async function convertToInteractive(key) {\n",
              "          const element = document.querySelector('#df-e29739fd-25bf-49f9-9798-87391a0b3246');\n",
              "          const dataTable =\n",
              "            await google.colab.kernel.invokeFunction('convertToInteractive',\n",
              "                                                     [key], {});\n",
              "          if (!dataTable) return;\n",
              "\n",
              "          const docLinkHtml = 'Like what you see? Visit the ' +\n",
              "            '<a target=\"_blank\" href=https://colab.research.google.com/notebooks/data_table.ipynb>data table notebook</a>'\n",
              "            + ' to learn more about interactive tables.';\n",
              "          element.innerHTML = '';\n",
              "          dataTable['output_type'] = 'display_data';\n",
              "          await google.colab.output.renderOutput(dataTable, element);\n",
              "          const docLink = document.createElement('div');\n",
              "          docLink.innerHTML = docLinkHtml;\n",
              "          element.appendChild(docLink);\n",
              "        }\n",
              "      </script>\n",
              "    </div>\n",
              "  </div>\n",
              "  "
            ]
          },
          "metadata": {},
          "execution_count": 51
        }
      ]
    },
    {
      "cell_type": "code",
      "source": [
        "X_city = ct.transform(df_plot[[\"City\"]]).toarray()\n",
        "X_city"
      ],
      "metadata": {
        "colab": {
          "base_uri": "https://localhost:8080/"
        },
        "id": "UqQSYamCjbRh",
        "outputId": "b60df61d-e85d-43f0-dd80-134f9039fb97"
      },
      "execution_count": null,
      "outputs": [
        {
          "output_type": "execute_result",
          "data": {
            "text/plain": [
              "array([[0., 0., 0., ..., 0., 0., 0.],\n",
              "       [0., 0., 0., ..., 0., 0., 0.],\n",
              "       [0., 0., 0., ..., 0., 0., 0.],\n",
              "       ...,\n",
              "       [0., 0., 0., ..., 0., 0., 0.],\n",
              "       [0., 0., 0., ..., 0., 0., 0.],\n",
              "       [0., 0., 0., ..., 0., 0., 0.]])"
            ]
          },
          "metadata": {},
          "execution_count": 52
        }
      ]
    },
    {
      "cell_type": "code",
      "source": [
        "X_src = st.transform(df_plot[[\"src_city\"]])\n"
      ],
      "metadata": {
        "id": "QMMD0zRZkBeu"
      },
      "execution_count": null,
      "outputs": []
    },
    {
      "cell_type": "code",
      "source": [
        "X_dest = dt.transform(df_plot[[\"dest\"]])"
      ],
      "metadata": {
        "id": "1H2Clf12kEu9"
      },
      "execution_count": null,
      "outputs": []
    },
    {
      "cell_type": "code",
      "source": [
        "h_n = np.reshape(df_plot[\"Hop_No\"].values, (-1, 1))\n",
        "\n",
        "X = np.concatenate((X_src, X_dest, X_city, h_n), axis=1)\n",
        "X"
      ],
      "metadata": {
        "colab": {
          "base_uri": "https://localhost:8080/"
        },
        "id": "SpmBn_S_kKDA",
        "outputId": "f5bb1d7e-3630-4bd4-c6fb-368bc3081bc6"
      },
      "execution_count": null,
      "outputs": [
        {
          "output_type": "execute_result",
          "data": {
            "text/plain": [
              "array([[1., 0., 0., ..., 0., 0., 1.],\n",
              "       [1., 0., 0., ..., 0., 0., 2.],\n",
              "       [1., 0., 0., ..., 0., 0., 3.],\n",
              "       ...,\n",
              "       [1., 0., 0., ..., 0., 0., 5.],\n",
              "       [1., 0., 0., ..., 0., 0., 6.],\n",
              "       [1., 0., 0., ..., 0., 0., 7.]])"
            ]
          },
          "metadata": {},
          "execution_count": 55
        }
      ]
    },
    {
      "cell_type": "code",
      "source": [
        "y = df_plot[\"avg_rtt\"].values\n",
        "y = np.reshape(y, (-1, 1))\n",
        "y_pred = xgb_r.predict(X)\n",
        "y_pred"
      ],
      "metadata": {
        "colab": {
          "base_uri": "https://localhost:8080/"
        },
        "id": "qu4hEmP_lOiN",
        "outputId": "63e507ba-3530-44c0-a6c3-34d378ed8328"
      },
      "execution_count": null,
      "outputs": [
        {
          "output_type": "execute_result",
          "data": {
            "text/plain": [
              "array([ 6.1503744,  7.154378 ,  5.1477747, 17.848965 ,  5.1641684,\n",
              "       10.385378 , 11.056684 , 11.056684 , 11.056684 ,  6.1503744,\n",
              "        7.154378 ,  5.1477747, 17.848965 ,  5.1641684, 10.385378 ,\n",
              "       11.056684 , 11.056684 , 11.056684 ,  6.1503744,  7.154378 ,\n",
              "        5.1477747, 17.848965 ,  5.1641684, 10.385378 , 11.056684 ,\n",
              "       11.056684 , 11.056684 ,  6.1503744,  7.154378 ,  5.1477747,\n",
              "       17.848965 ,  5.1641684, 10.385378 , 11.056684 , 11.056684 ,\n",
              "       11.056684 ,  6.1503744,  7.154378 ,  5.1477747, 17.848965 ,\n",
              "        5.1641684, 10.385378 , 11.056684 , 11.056684 , 11.056684 ,\n",
              "        6.1503744,  7.154378 ,  5.1477747, 17.848965 ,  5.1641684,\n",
              "       10.385378 , 11.056684 , 11.056684 , 11.056684 ,  6.1503744,\n",
              "        7.154378 ,  5.1477747, 17.848965 ,  5.1641684, 10.385378 ,\n",
              "       11.056684 , 11.056684 , 11.056684 ,  6.1503744,  7.154378 ,\n",
              "        5.1477747, 17.848965 ,  5.1641684, 10.385378 , 11.056684 ,\n",
              "       11.056684 , 11.056684 ,  6.1503744,  7.154378 ,  5.1477747,\n",
              "       17.848965 ,  5.1641684, 10.385378 , 11.056684 , 11.056684 ,\n",
              "       11.056684 ,  6.1503744,  7.154378 , 15.286999 ,  5.1641684,\n",
              "        5.1641684,  5.1641684,  5.1641684,  6.1503744,  7.154378 ,\n",
              "       15.286999 ,  5.1641684,  5.1641684,  5.1641684,  5.1641684,\n",
              "        6.1503744,  7.154378 , 15.286999 ,  5.1641684,  5.1641684,\n",
              "        5.1641684,  5.1641684,  6.1503744,  7.154378 , 15.286999 ,\n",
              "        5.1641684,  5.1641684,  5.1641684,  5.1641684,  6.1503744,\n",
              "        7.154378 , 15.286999 ,  5.1641684,  5.1641684,  5.1641684,\n",
              "        5.1641684,  6.1503744,  7.154378 , 15.286999 ,  5.1641684,\n",
              "        5.1641684,  5.1641684,  5.1641684,  6.1503744,  7.154378 ,\n",
              "       15.286999 ,  5.1641684,  5.1641684,  5.1641684,  5.1641684,\n",
              "        6.1503744,  7.154378 , 15.286999 ,  5.1641684,  5.1641684,\n",
              "        5.1641684,  5.1641684,  6.1503744,  7.154378 , 15.286999 ,\n",
              "        5.1641684,  5.1641684,  5.1641684,  5.1641684,  6.1503744,\n",
              "        7.154378 ,  5.1477747, 17.848965 ,  5.1641684, 10.385378 ,\n",
              "       11.056684 , 11.056684 , 11.056684 ,  6.1503744,  7.154378 ,\n",
              "        5.1477747, 17.848965 ,  5.1641684, 10.385378 , 11.056684 ,\n",
              "       11.056684 , 11.056684 ,  6.1503744,  7.154378 ,  5.1477747,\n",
              "       17.848965 ,  5.1641684, 10.385378 , 11.056684 , 11.056684 ,\n",
              "       11.056684 ,  6.1503744,  7.154378 ,  5.1477747, 17.848965 ,\n",
              "        5.1641684, 10.385378 , 11.056684 , 11.056684 , 11.056684 ,\n",
              "        6.1503744,  7.154378 ,  5.1477747, 17.848965 ,  5.1641684,\n",
              "       10.385378 , 11.056684 , 11.056684 , 11.056684 ,  6.1503744,\n",
              "        7.154378 ,  5.1477747, 17.848965 ,  5.1641684, 10.385378 ,\n",
              "       11.056684 , 11.056684 , 11.056684 ,  6.1503744,  7.154378 ,\n",
              "        5.1477747, 17.848965 ,  5.1641684, 10.385378 , 11.056684 ,\n",
              "       11.056684 , 11.056684 ,  6.1503744,  7.154378 ,  5.1477747,\n",
              "       17.848965 ,  5.1641684, 10.385378 , 11.056684 , 11.056684 ,\n",
              "       11.056684 ,  6.1503744,  7.154378 , 15.286999 ,  5.1641684,\n",
              "        5.1641684,  5.1641684,  5.1641684,  6.1503744,  7.154378 ,\n",
              "       15.286999 ,  5.1641684,  5.1641684,  5.1641684,  5.1641684,\n",
              "        6.1503744,  7.154378 , 15.286999 ,  5.1641684,  5.1641684,\n",
              "        5.1641684,  5.1641684,  6.1503744,  7.154378 , 15.286999 ,\n",
              "        5.1641684,  5.1641684,  5.1641684,  5.1641684,  6.1503744,\n",
              "        7.154378 , 15.286999 ,  5.1641684,  5.1641684,  5.1641684,\n",
              "        5.1641684,  6.1503744,  7.154378 , 15.286999 ,  5.1641684,\n",
              "        5.1641684,  5.1641684,  5.1641684,  6.1503744,  7.154378 ,\n",
              "        5.1477747, 17.848965 ,  5.1641684, 10.385378 , 11.056684 ,\n",
              "       11.056684 , 11.056684 ,  6.1503744,  7.154378 ,  5.1477747,\n",
              "       17.848965 ,  5.1641684, 10.385378 , 11.056684 , 11.056684 ,\n",
              "       11.056684 ,  6.1503744,  7.154378 ,  5.1477747, 17.848965 ,\n",
              "        5.1641684, 10.385378 , 11.056684 , 11.056684 , 11.056684 ,\n",
              "        6.1503744,  7.154378 ,  5.1477747, 17.848965 ,  5.1641684,\n",
              "       10.385378 , 11.056684 , 11.056684 , 11.056684 ,  6.1503744,\n",
              "        7.154378 ,  5.1477747, 17.848965 ,  5.1641684, 10.385378 ,\n",
              "       11.056684 , 11.056684 , 11.056684 ,  6.1503744,  7.154378 ,\n",
              "        5.1477747, 17.848965 ,  5.1641684, 10.385378 , 11.056684 ,\n",
              "       11.056684 , 11.056684 ,  6.1503744,  7.154378 ,  5.1477747,\n",
              "       17.848965 ,  5.1641684, 10.385378 , 11.056684 , 11.056684 ,\n",
              "       11.056684 ,  6.1503744,  7.154378 , 15.286999 ,  5.1641684,\n",
              "        5.1641684,  5.1641684,  5.1641684], dtype=float32)"
            ]
          },
          "metadata": {},
          "execution_count": 56
        }
      ]
    },
    {
      "cell_type": "code",
      "source": [
        "plt.scatter(h_n, y)\n",
        "plt.plot([h_n[0][0], h_n[1][0]], [y_pred[0], y_pred[10]])"
      ],
      "metadata": {
        "colab": {
          "base_uri": "https://localhost:8080/"
        },
        "id": "PbNhnvvAlfeh",
        "outputId": "ad715c30-b395-4c66-991c-3dc3701d5d9f"
      },
      "execution_count": null,
      "outputs": [
        {
          "output_type": "execute_result",
          "data": {
            "text/plain": [
              "[<matplotlib.lines.Line2D at 0x7f282e119f10>]"
            ]
          },
          "metadata": {},
          "execution_count": 57
        },
        {
          "output_type": "display_data",
          "data": {
            "text/plain": [
              "<Figure size 432x288 with 1 Axes>"
            ],
            "image/png": "[encoded data removed]"
          },
          "metadata": {
            "needs_background": "light"
          }
        }
      ]
    },
    {
      "cell_type": "code",
      "source": [
        "h_n[0][0]"
      ],
      "metadata": {
        "colab": {
          "base_uri": "https://localhost:8080/"
        },
        "id": "BWxWinQCl1IY",
        "outputId": "539820da-f8e8-4ccf-e9aa-f069e1951342"
      },
      "execution_count": null,
      "outputs": [
        {
          "output_type": "execute_result",
          "data": {
            "text/plain": [
              "1"
            ]
          },
          "metadata": {},
          "execution_count": 58
        }
      ]
    },
    {
      "cell_type": "code",
      "source": [
        "h_n[1][0]"
      ],
      "metadata": {
        "colab": {
          "base_uri": "https://localhost:8080/"
        },
        "id": "o4o5UzJDnCq-",
        "outputId": "d21cb498-ec8d-43c4-cfe9-f3ba43b8555d"
      },
      "execution_count": null,
      "outputs": [
        {
          "output_type": "execute_result",
          "data": {
            "text/plain": [
              "2"
            ]
          },
          "metadata": {},
          "execution_count": 59
        }
      ]
    },
    {
      "cell_type": "code",
      "source": [
        "y_pred[0]"
      ],
      "metadata": {
        "colab": {
          "base_uri": "https://localhost:8080/"
        },
        "id": "8bIxqQ78nJNM",
        "outputId": "cbde5195-35b7-4019-cf00-7a5448b5d0cf"
      },
      "execution_count": null,
      "outputs": [
        {
          "output_type": "execute_result",
          "data": {
            "text/plain": [
              "6.1503744"
            ]
          },
          "metadata": {},
          "execution_count": 60
        }
      ]
    },
    {
      "cell_type": "code",
      "source": [],
      "metadata": {
        "id": "lCtO_TYWoW3Q"
      },
      "execution_count": null,
      "outputs": []
    }
  ]
}